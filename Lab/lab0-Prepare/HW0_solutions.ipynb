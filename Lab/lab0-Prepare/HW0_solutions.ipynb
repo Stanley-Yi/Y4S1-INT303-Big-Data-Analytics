{
 "cells": [
  {
   "cell_type": "markdown",
   "metadata": {},
   "source": [
    "# Homework 0\n",
    "\n",
    "\n",
    "## Lab 1: Introduction to Python and its Numerical Stack\n",
    "\n",
    "**XJTLU**<br>\n",
    "**S1 2021**<br>\n",
    "**Instructors:** Jia WANG <br>\n",
    "**Lab Instructor:** Jia WANG <br>\n",
    "**Authors:** Rahul Dave, David Sondak, Will Claybaugh, Pavlos Protopapas (Harvard)\n",
    "\n",
    "---\n",
    "\n",
    "Welcome to INT303.  In this class, we will be using a variety of tools that will require some initial configuration. To ensure everything goes smoothly moving forward, we will setup the majority of those tools in this homework. While some of this will likely be dull, doing it now will enable us to do more exciting work in the weeks that follow without getting bogged down in further software configuration. This homework will not be graded, however it is essential that you complete it timely since it will enable us to set up your accounts. \n",
    "\n",
    "## Programming expectations\n",
    "\n",
    "All the assignments and labs for this class will use Python and, for the most part, the browser-based IPython notebook format you are currently viewing. Knowledge of Python is not a prerequisite for this course, **provided you are comfortable learning on your own as needed**. While we have strived to make the programming component of this course straightforward, we will not devote much time to teaching prorgramming or Python syntax. Basically, you should feel comfortable with:\n",
    "\n",
    "* How to look up Python syntax on Google and StackOverflow.\n",
    "* Basic programming concepts like functions, loops, arrays, dictionaries, strings, and if statements.\n",
    "* How to learn new libraries by reading documentation.\n",
    "\n",
    "\n",
    "## Getting Python\n",
    "\n",
    "You will be using Python throughout the course, including many popular 3rd party Python libraries for scientific computing. [Anaconda](http://continuum.io/downloads) is an easy-to-install bundle of Python and most of these libraries. We recommend that you use Anaconda for this course.\n",
    "\n",
    "Please visit [this page](https://github.com/cs109/content/wiki/Installing-Python) and follow the instructions to set up Python\n",
    "\n",
    "<hline>\n",
    "\n",
    "## Hello, Python\n",
    "\n",
    "The IPython notebook is an application to build interactive computational notebooks. You'll be using them to complete labs and homework. Once you've set up Python, please <a href=https://raw.github.com/cs109/content/master/HW0.ipynb download=\"HW0.ipynb\">download this page</a>, and open it with IPython by typing\n",
    "\n",
    "```\n",
    "ipython notebook <name_of_downloaded_file>\n",
    "```\n",
    "\n",
    "For the rest of the assignment, use your local copy of this page, running on IPython.\n",
    "\n",
    "Notebooks are composed of many \"cells\", which can contain text (like this one), or code (like the one below). Double click on the cell below, and evaluate it by clicking the \"play\" button above, for by hitting shift + enter"
   ]
  },
  {
   "cell_type": "code",
   "execution_count": 1,
   "metadata": {},
   "outputs": [
    {
     "name": "stdout",
     "output_type": "stream",
     "text": [
      "Item is 10\n",
      "Item is 20\n",
      "Item is 30\n",
      "Item is 40\n",
      "Item is 50\n"
     ]
    }
   ],
   "source": [
    "x = [10, 20, 30, 40, 50]\n",
    "for item in x:\n",
    "    print(\"Item is\", item)"
   ]
  },
  {
   "cell_type": "markdown",
   "metadata": {},
   "source": [
    "## Python Libraries\n",
    "\n",
    "We will be using a several different libraries throughout this course. If you've successfully completed the [installation instructions](https://github.com/cs109/content/wiki/Installing-Python), all of the following statements should run."
   ]
  },
  {
   "cell_type": "code",
   "execution_count": 2,
   "metadata": {},
   "outputs": [
    {
     "name": "stdout",
     "output_type": "stream",
     "text": [
      "IPython version:      7.19.0 (need at least 1.0)\n",
      "Numpy version:        1.19.2 (need at least 1.7.1)\n",
      "SciPy version:         1.6.2 (need at least 0.12.0)\n",
      "Pandas version:        1.1.5 (need at least 0.11.0)\n",
      "Mapltolib version:     3.3.4 (need at least 1.2.1)\n",
      "Scikit-Learn version: 0.24.1 (need at least 0.13.1)\n",
      "requests version:     2.25.1 (need at least 1.2.3)\n",
      "NetworkX version:      2.5.1 (need at least 1.7)\n",
      "BeautifulSoup version: 4.9.3 (need at least 3.2)\n"
     ]
    }
   ],
   "source": [
    "#IPython is what you are using now to run the notebook\n",
    "import IPython\n",
    "print (\"IPython version:      %6.6s (need at least 1.0)\" % IPython.__version__)\n",
    "\n",
    "# Numpy is a library for working with Arrays\n",
    "import numpy as np\n",
    "print (\"Numpy version:        %6.6s (need at least 1.7.1)\" % np.__version__)\n",
    "\n",
    "# SciPy implements many different numerical algorithms\n",
    "import scipy as sp\n",
    "print (\"SciPy version:        %6.6s (need at least 0.12.0)\" % sp.__version__)\n",
    "\n",
    "# Pandas makes working with data tables easier\n",
    "import pandas as pd\n",
    "print (\"Pandas version:       %6.6s (need at least 0.11.0)\" % pd.__version__)\n",
    "\n",
    "# Module for plotting\n",
    "import matplotlib\n",
    "print (\"Mapltolib version:    %6.6s (need at least 1.2.1)\" % matplotlib.__version__)\n",
    "\n",
    "# SciKit Learn implements several Machine Learning algorithms\n",
    "import sklearn\n",
    "print (\"Scikit-Learn version: %6.6s (need at least 0.13.1)\" % sklearn.__version__)\n",
    "\n",
    "# Requests is a library for getting data from the Web\n",
    "import requests\n",
    "print (\"requests version:     %6.6s (need at least 1.2.3)\" % requests.__version__)\n",
    "\n",
    "# Networkx is a library for working with networks\n",
    "import networkx as nx\n",
    "print (\"NetworkX version:     %6.6s (need at least 1.7)\" % nx.__version__)\n",
    "\n",
    "#BeautifulSoup is a library to parse HTML and XML documents\n",
    "\n",
    "import bs4\n",
    "print (\"BeautifulSoup version:%6.6s (need at least 3.2)\" % bs4.__version__)\n",
    "\n"
   ]
  },
  {
   "cell_type": "code",
   "execution_count": null,
   "metadata": {},
   "outputs": [
    {
     "name": "stdout",
     "output_type": "stream",
     "text": [
      "Collecting package metadata (current_repodata.json): done\n",
      "Solving environment: done\n",
      "\n",
      "## Package Plan ##\n",
      "\n",
      "  environment location: /Users/jiawang/opt/anaconda3\n",
      "\n",
      "  added / updated specs:\n",
      "    - conda\n",
      "\n",
      "\n",
      "The following packages will be downloaded:\n",
      "\n",
      "    package                    |            build\n",
      "    ---------------------------|-----------------\n",
      "    backports.functools_lru_cache-1.6.4|     pyhd3eb1b0_0           9 KB\n",
      "    backports.tempfile-1.0     |     pyhd3eb1b0_1          11 KB\n",
      "    cachecontrol-0.12.6        |     pyhd3eb1b0_0          19 KB\n",
      "    commonmark-0.9.1           |     pyhd3eb1b0_0          47 KB\n",
      "    conda-4.10.3               |   py37hecd8cb5_0         2.9 MB\n",
      "    conda-package-handling-1.7.3|   py37h9ed2024_1         1.5 MB\n",
      "    future-0.18.2              |           py37_1         630 KB\n",
      "    keyrings.alt-4.1.0         |   py37hecd8cb5_0          34 KB\n",
      "    lockfile-0.12.2            |   py37hecd8cb5_0         246 KB\n",
      "    orange-canvas-core-0.1.15  |     pyhd3eb1b0_0         316 KB\n",
      "    serverfiles-0.3.1          |   py37hecd8cb5_0          15 KB\n",
      "    xmltodict-0.12.0           |     pyhd3eb1b0_0          13 KB\n",
      "    ------------------------------------------------------------\n",
      "                                           Total:         5.7 MB\n",
      "\n",
      "The following NEW packages will be INSTALLED:\n",
      "\n",
      "  dictdiffer         pkgs/main/noarch::dictdiffer-0.8.0-py_0\n",
      "\n",
      "The following packages will be UPDATED:\n",
      "\n",
      "  anyqt               pkgs/main/osx-64::anyqt-0.0.10-py37_0 --> pkgs/main/noarch::anyqt-0.0.13-pyhd3eb1b0_0\n",
      "  backports.functoo~                             1.6.1-py_0 --> 1.6.4-pyhd3eb1b0_0\n",
      "  cachecontrol       pkgs/main/osx-64::cachecontrol-0.12.5~ --> pkgs/main/noarch::cachecontrol-0.12.6-pyhd3eb1b0_0\n",
      "  conda                        anaconda::conda-4.9.0-py37_0 --> pkgs/main::conda-4.10.3-py37hecd8cb5_0\n",
      "  conda-package-han~                   1.6.0-py37h1de35cc_0 --> 1.7.3-py37h9ed2024_1\n",
      "  future                                      0.18.2-py37_0 --> 0.18.2-py37_1\n",
      "  keyrings.alt                                 3.1.1-py37_0 --> 4.1.0-py37hecd8cb5_0\n",
      "  orange-canvas-core                             0.1.7-py_0 --> 0.1.15-pyhd3eb1b0_0\n",
      "  pyqtgraph          pkgs/main/osx-64::pyqtgraph-0.10.0-py~ --> pkgs/main/noarch::pyqtgraph-0.11.0-py_0\n",
      "  python-louvain                                  0.13-py_0 --> 0.15-pyhd3eb1b0_0\n",
      "  serverfiles                                  0.3.0-py37_0 --> 0.3.1-py37hecd8cb5_0\n",
      "\n",
      "The following packages will be DOWNGRADED:\n",
      "\n",
      "  backports.tempfile                               1.0-py_1 --> 1.0-pyhd3eb1b0_1\n",
      "  commonmark                                     0.9.1-py_0 --> 0.9.1-pyhd3eb1b0_0\n",
      "  lockfile                                    0.12.2-py37_0 --> 0.12.2-py37hecd8cb5_0\n",
      "  xmltodict                                     0.12.0-py_0 --> 0.12.0-pyhd3eb1b0_0\n",
      "\n",
      "\n",
      "Proceed ([y]/n)? "
     ]
    }
   ],
   "source": []
  },
  {
   "cell_type": "markdown",
   "metadata": {},
   "source": [
    "If any of these libraries are missing or out of date, you will need to [install them](https://github.com/cs109/content/wiki/Installing-Python#installing-additional-libraries) and restart IPython"
   ]
  },
  {
   "cell_type": "markdown",
   "metadata": {},
   "source": [
    "## Hello matplotlib"
   ]
  },
  {
   "cell_type": "markdown",
   "metadata": {},
   "source": [
    "The notebook integrates nicely with Matplotlib, the primary plotting package for python. This should embed a figure of a sine wave:"
   ]
  },
  {
   "cell_type": "code",
   "execution_count": 3,
   "metadata": {},
   "outputs": [
    {
     "data": {
      "text/plain": [
       "Text(0, 0.5, 'Y axis')"
      ]
     },
     "execution_count": 3,
     "metadata": {},
     "output_type": "execute_result"
    },
    {
     "data": {
      "image/png": "[encoded data removed]",
      "text/plain": [
       "<Figure size 432x288 with 1 Axes>"
      ]
     },
     "metadata": {
      "needs_background": "light"
     },
     "output_type": "display_data"
    }
   ],
   "source": [
    "#this line prepares IPython for working with matplotlib\n",
    "%matplotlib inline  \n",
    "\n",
    "# this actually imports matplotlib\n",
    "import matplotlib.pyplot as plt  \n",
    "\n",
    "x = np.linspace(0, 10, 30)  #array of 30 points from 0 to 10\n",
    "y = np.sin(x)\n",
    "z = y + np.random.normal(size=30) * .2\n",
    "plt.plot(x, y, 'ro-', label='A sine wave')\n",
    "plt.plot(x, z, 'b-', label='Noisy sine')\n",
    "plt.legend(loc = 'lower right')\n",
    "plt.xlabel(\"X axis\")\n",
    "plt.ylabel(\"Y axis\")           "
   ]
  },
  {
   "cell_type": "markdown",
   "metadata": {},
   "source": [
    "If that last cell complained about the `%matplotlib` line, you need to update IPython to v1.0, and restart the notebook. See the [installation page](https://github.com/cs109/content/wiki/Installing-Python)"
   ]
  },
  {
   "cell_type": "markdown",
   "metadata": {},
   "source": [
    "## Hello Numpy\n",
    "\n",
    "The Numpy array processing library is the basis of nearly all numerical computing in Python. Here's a 30 second crash course. For more details, consult Chapter 4 of Python for Data Analysis, or the [Numpy User's Guide](http://docs.scipy.org/doc/numpy-dev/user/index.html)"
   ]
  },
  {
   "cell_type": "code",
   "execution_count": 6,
   "metadata": {},
   "outputs": [
    {
     "name": "stdout",
     "output_type": "stream",
     "text": [
      "Make a 3 row x 4 column array of random numbers\n",
      "[[2.33732611e-01 3.30407379e-02 2.21870450e-01 7.07118295e-01]\n",
      " [2.71395901e-01 5.82578500e-01 7.24014647e-01 5.21838375e-02]\n",
      " [6.90641568e-01 8.62891330e-04 2.81668546e-01 9.02076037e-01]]\n",
      "\n",
      "Add 1 to every element\n",
      "[[1.23373261 1.03304074 1.22187045 1.70711829]\n",
      " [1.2713959  1.5825785  1.72401465 1.05218384]\n",
      " [1.69064157 1.00086289 1.28166855 1.90207604]]\n",
      "\n",
      "Get the element at row 1, column 2\n",
      "1.7240146469793336\n",
      "\n",
      "Get the first row\n",
      "[1.23373261 1.03304074 1.22187045 1.70711829]\n",
      "\n",
      "Get every 2nd column of the first row\n",
      "[1.23373261 1.22187045]\n",
      "\n"
     ]
    }
   ],
   "source": [
    "print(\"Make a 3 row x 4 column array of random numbers\")\n",
    "x = np.random.random((3, 4))\n",
    "print(x)\n",
    "print()\n",
    "\n",
    "print(\"Add 1 to every element\")\n",
    "x = x + 1\n",
    "print(x)\n",
    "print()\n",
    "\n",
    "print(\"Get the element at row 1, column 2\")\n",
    "print(x[1, 2])\n",
    "print()\n",
    "\n",
    "# The colon syntax is called \"slicing\" the array. \n",
    "print(\"Get the first row\")\n",
    "print(x[0, :])\n",
    "print()\n",
    "\n",
    "print(\"Get every 2nd column of the first row\")\n",
    "print(x[0, ::2])\n",
    "print()"
   ]
  },
  {
   "cell_type": "markdown",
   "metadata": {},
   "source": [
    "Print the maximum, minimum, and mean of the array. This does **not** require writing a loop. In the code cell below, type `x.m<TAB>`, to find built-in operations for common array statistics like this"
   ]
  },
  {
   "cell_type": "code",
   "execution_count": 7,
   "metadata": {},
   "outputs": [
    {
     "name": "stdout",
     "output_type": "stream",
     "text": [
      "Max is   1.9020760365159144\n",
      "Min is   1.0008628913297621\n",
      "Mean is  1.3917653350481096\n"
     ]
    }
   ],
   "source": [
    "#your code here\n",
    "print(\"Max is  \", x.max())\n",
    "print(\"Min is  \", x.min())\n",
    "print(\"Mean is \", x.mean())"
   ]
  },
  {
   "cell_type": "markdown",
   "metadata": {},
   "source": [
    "Call the `x.max` function again, but use the `axis` keyword to print the maximum of each row in x."
   ]
  },
  {
   "cell_type": "code",
   "execution_count": 6,
   "metadata": {},
   "outputs": [
    {
     "name": "stdout",
     "output_type": "stream",
     "text": [
      "[ 1.75102823  1.84906771  1.79778484]\n"
     ]
    }
   ],
   "source": [
    "#your code here\n",
    "print(x.max(axis=1))"
   ]
  },
  {
   "cell_type": "markdown",
   "metadata": {},
   "source": [
    "Here's a way to quickly simulate 500 coin \"fair\" coin tosses (where the probabily of getting Heads is 50%, or 0.5)"
   ]
  },
  {
   "cell_type": "code",
   "execution_count": 11,
   "metadata": {},
   "outputs": [
    {
     "name": "stdout",
     "output_type": "stream",
     "text": [
      "number of heads: 235\n"
     ]
    }
   ],
   "source": [
    "x = np.random.binomial(500, .5)\n",
    "print(\"number of heads:\", x)"
   ]
  },
  {
   "cell_type": "markdown",
   "metadata": {},
   "source": [
    "Repeat this simulation 500 times, and use the [plt.hist() function](http://matplotlib.org/api/pyplot_api.html#matplotlib.pyplot.hist) to plot a histogram of the number of Heads (1s) in each simulation"
   ]
  },
  {
   "cell_type": "code",
   "execution_count": 13,
   "metadata": {},
   "outputs": [
    {
     "data": {
      "image/png": "[encoded data removed]",
      "text/plain": [
       "<Figure size 432x288 with 1 Axes>"
      ]
     },
     "metadata": {
      "needs_background": "light"
     },
     "output_type": "display_data"
    }
   ],
   "source": [
    "#your code here\n",
    "\n",
    "# 3 ways to run the simulations\n",
    "\n",
    "# loop\n",
    "heads = []\n",
    "for i in range(500):\n",
    "    heads.append(np.random.binomial(500, .5))\n",
    "\n",
    "# \"list comprehension\"\n",
    "heads = [np.random.binomial(500, .5) for i in range(500)]\n",
    "\n",
    "# pure numpy\n",
    "heads = np.random.binomial(500, .5, size=500)\n",
    "\n",
    "histogram = plt.hist(heads, bins=10)"
   ]
  },
  {
   "cell_type": "code",
   "execution_count": 14,
   "metadata": {},
   "outputs": [
    {
     "data": {
      "text/plain": [
       "(500,)"
      ]
     },
     "execution_count": 14,
     "metadata": {},
     "output_type": "execute_result"
    }
   ],
   "source": [
    "heads.shape"
   ]
  },
  {
   "cell_type": "markdown",
   "metadata": {},
   "source": [
    "## The Monty Hall Problem\n",
    "\n",
    "\n",
    "Here's a fun and perhaps surprising statistical riddle, and a good way to get some practice writing python functions\n",
    "\n",
    "In a gameshow, contestants try to guess which of 3 closed doors contain a cash prize (goats are behind the other two doors). Of course, the odds of choosing the correct door are 1 in 3. As a twist, the host of the show occasionally opens a door after a contestant makes his or her choice. This door is always one of the two the contestant did not pick, and is also always one of the goat doors (note that it is always possible to do this, since there are two goat doors). At this point, the contestant has the option of keeping his or her original choice, or swtiching to the other unopened door. The question is: is there any benefit to switching doors? The answer surprises many people who haven't heard the question before.\n",
    "\n",
    "We can answer the problem by running simulations in Python. We'll do it in several parts.\n",
    "\n",
    "First, write a function called `simulate_prizedoor`. This function will simulate the location of the prize in many games -- see the detailed specification below:"
   ]
  },
  {
   "cell_type": "code",
   "execution_count": 29,
   "metadata": {},
   "outputs": [],
   "source": [
    "\"\"\"\n",
    "Function\n",
    "--------\n",
    "simulate_prizedoor\n",
    "\n",
    "Generate a random array of 0s, 1s, and 2s, representing\n",
    "hiding a prize between door 0, door 1, and door 2\n",
    "\n",
    "Parameters\n",
    "----------\n",
    "nsim : int\n",
    "    The number of simulations to run\n",
    "\n",
    "Returns\n",
    "-------\n",
    "sims : array\n",
    "    Random array of 0s, 1s, and 2s\n",
    "\n",
    "Example\n",
    "-------\n",
    ">>> print simulate_prizedoor(3)\n",
    "array([0, 0, 2])\n",
    "\"\"\"\n",
    "#your code here\n",
    "\n",
    "def simulate_prizedoor(nsim):\n",
    "    # if nsim=1000, this function will return a array with shape 1000, which represent the doors that hiding prizes\n",
    "    \n",
    "    return np.random.randint(0, 3, nsim)  "
   ]
  },
  {
   "cell_type": "markdown",
   "metadata": {},
   "source": [
    "Next, write a function that simulates the contestant's guesses for `nsim` simulations. Call this function `simulate_guess`. The specs:"
   ]
  },
  {
   "cell_type": "code",
   "execution_count": 73,
   "metadata": {},
   "outputs": [],
   "source": [
    "\"\"\"\n",
    "Function\n",
    "--------\n",
    "simulate_guess\n",
    "\n",
    "Return any strategy for guessing which door a prize is behind. This\n",
    "could be a random strategy, one that always guesses 2, whatever.\n",
    "\n",
    "Parameters\n",
    "----------\n",
    "nsim : int\n",
    "    The number of simulations to generate guesses for\n",
    "\n",
    "Returns\n",
    "-------\n",
    "guesses : array\n",
    "    An array of guesses. Each guess is a 0, 1, or 2\n",
    "\n",
    "Example\n",
    "-------\n",
    ">>> print simulate_guess(5)\n",
    "array([0, 0, 0, 0, 0])\n",
    "\"\"\"\n",
    "#your code here\n",
    "\n",
    "def simulate_guess(nsim):\n",
    "    return np.zeros(nsim, dtype=np.int)"
   ]
  },
  {
   "cell_type": "markdown",
   "metadata": {},
   "source": [
    "Next, write a function, `goat_door`, to simulate randomly revealing one of the goat doors that a contestant didn't pick."
   ]
  },
  {
   "cell_type": "code",
   "execution_count": 101,
   "metadata": {},
   "outputs": [],
   "source": [
    "\"\"\"\n",
    "Function\n",
    "--------\n",
    "goat_door\n",
    "\n",
    "Simulate the opening of a \"goat door\" that doesn't contain the prize,\n",
    "and is different from the contestants guess\n",
    "\n",
    "Parameters\n",
    "----------\n",
    "prizedoors : array\n",
    "    The door that the prize is behind in each simulation\n",
    "guesses : array\n",
    "    THe door that the contestant guessed in each simulation\n",
    "\n",
    "Returns\n",
    "-------\n",
    "goats : array\n",
    "    The goat door that is opened for each simulation. Each item is 0, 1, or 2, and is different\n",
    "    from both prizedoors and guesses\n",
    "\n",
    "Examples\n",
    "--------\n",
    ">>> print goat_door(np.array([0, 1, 2]), np.array([1, 1, 1]))\n",
    ">>> array([2, 2, 0])\n",
    "\"\"\"\n",
    "#your code here\n",
    "\n",
    "def goat_door(prizedoors, guesses):\n",
    "    \n",
    "    #strategy: generate random answers, and\n",
    "    #keep updating until they satisfy the rule\n",
    "    #that they aren't a prizedoor or a guess\n",
    "    result = np.random.randint(0, 3, prizedoors.size)\n",
    "    while True:\n",
    "        bad = (result == prizedoors) | (result == guesses)\n",
    "        if not bad.any():  # 判断给定的可迭代参数是否全部为 False，则返回 False，如果有一个为 True，则返回 True\n",
    "            return result\n",
    "        result[bad] = np.random.randint(0, 3, bad.sum())"
   ]
  },
  {
   "cell_type": "markdown",
   "metadata": {},
   "source": [
    "Write a function, `switch_guess`, that represents the strategy of always switching a guess after the goat door is opened."
   ]
  },
  {
   "cell_type": "code",
   "execution_count": 98,
   "metadata": {},
   "outputs": [],
   "source": [
    "\"\"\"\n",
    "Function\n",
    "--------\n",
    "switch_guess\n",
    "\n",
    "The strategy that always switches a guess after the goat door is opened\n",
    "\n",
    "Parameters\n",
    "----------\n",
    "guesses : array\n",
    "     Array of original guesses, for each simulation\n",
    "goatdoors : array\n",
    "     Array of revealed goat doors for each simulation\n",
    "\n",
    "Returns\n",
    "-------\n",
    "The new door after switching. Should be different from both guesses and goatdoors\n",
    "\n",
    "Examples\n",
    "--------\n",
    ">>> print switch_guess(np.array([0, 1, 2]), np.array([1, 2, 1]))\n",
    ">>> array([2, 0, 0])\n",
    "\"\"\"\n",
    "#your code here\n",
    "\n",
    "def switch_guess(guesses, goatdoors):\n",
    "    result = np.zeros(guesses.size)\n",
    "    switch = {(0, 1): 2, (0, 2): 1, (1, 0): 2, (1, 2): 0, (2, 0): 1, (2, 1): 0}\n",
    "    for i in [0, 1, 2]:\n",
    "        for j in [0, 1, 2]:\n",
    "            mask = (guesses == i) & (goatdoors == j)  # 看有没有和 guess 或 goatdoor 相等的\n",
    "            if not mask.any():\n",
    "                continue\n",
    "            result = np.where(mask, np.ones_like(result) * switch[(i, j)], result)  # 发现有相等的，就换掉\n",
    "    return result"
   ]
  },
  {
   "cell_type": "markdown",
   "metadata": {},
   "source": [
    "Last function: write a `win_percentage` function that takes an array of `guesses` and `prizedoors`, and returns the percent of correct guesses"
   ]
  },
  {
   "cell_type": "code",
   "execution_count": 19,
   "metadata": {},
   "outputs": [],
   "source": [
    "\"\"\"\n",
    "Function\n",
    "--------\n",
    "win_percentage\n",
    "\n",
    "Calculate the percent of times that a simulation of guesses is correct\n",
    "\n",
    "Parameters\n",
    "-----------\n",
    "guesses : array\n",
    "    Guesses for each simulation\n",
    "prizedoors : array\n",
    "    Location of prize for each simulation\n",
    "\n",
    "Returns\n",
    "--------\n",
    "percentage : number between 0 and 100\n",
    "    The win percentage\n",
    "\n",
    "Examples\n",
    "---------\n",
    ">>> print win_percentage(np.array([0, 1, 2]), np.array([0, 0, 0]))\n",
    "33.333\n",
    "\"\"\"\n",
    "#your code here\n",
    "\n",
    "def win_percentage(guesses, prizedoors):\n",
    "    return 100 * (guesses == prizedoors).mean()"
   ]
  },
  {
   "cell_type": "markdown",
   "metadata": {},
   "source": [
    "Now, put it together. Simulate 10000 games where contestant keeps his original guess, and 10000 games where the contestant switches his door after a  goat door is revealed. Compute the percentage of time the contestant wins under either strategy. Is one strategy better than the other?"
   ]
  },
  {
   "cell_type": "code",
   "execution_count": 102,
   "metadata": {},
   "outputs": [
    {
     "name": "stdout",
     "output_type": "stream",
     "text": [
      "Win percentage when keeping original door\n",
      "34.0\n",
      "Win percentage when switching doors\n",
      "66.62\n"
     ]
    }
   ],
   "source": [
    "#your code here\n",
    "\n",
    "nsim = 10000\n",
    "\n",
    "#keep guesses\n",
    "print(\"Win percentage when keeping original door\")\n",
    "print(win_percentage(simulate_prizedoor(nsim), simulate_guess(nsim)))\n",
    "\n",
    "#switch\n",
    "pd = simulate_prizedoor(nsim)\n",
    "guess = simulate_guess(nsim)\n",
    "goats = goat_door(pd, guess)\n",
    "guess = switch_guess(guess, goats)\n",
    "print(\"Win percentage when switching doors\")\n",
    "print(win_percentage(pd, guess).mean())"
   ]
  },
  {
   "cell_type": "markdown",
   "metadata": {},
   "source": [
    "Many people find this answer counter-intuitive (famously, PhD mathematicians have incorrectly claimed the result must be wrong. Clearly, none of them knew Python). \n",
    "\n",
    "One of the best ways to build intuition about why opening a Goat door affects the odds is to re-run the experiment with 100 doors and one prize. If the game show host opens 98 goat doors after you make your initial selection, would you want to keep your first pick or switch? Can you generalize your simulation code to handle the case of `n` doors?"
   ]
  }
 ],
 "metadata": {
  "kernelspec": {
   "display_name": "Python 3",
   "language": "python",
   "name": "python3"
  },
  "language_info": {
   "codemirror_mode": {
    "name": "ipython",
    "version": 3
   },
   "file_extension": ".py",
   "mimetype": "text/x-python",
   "name": "python",
   "nbconvert_exporter": "python",
   "pygments_lexer": "ipython3",
   "version": "3.8.3"
  }
 },
 "nbformat": 4,
 "nbformat_minor": 1
}
