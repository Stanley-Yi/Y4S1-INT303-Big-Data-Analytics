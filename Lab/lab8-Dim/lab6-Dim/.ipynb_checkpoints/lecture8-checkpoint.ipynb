{
 "cells": [
  {
   "cell_type": "markdown",
   "metadata": {},
   "source": [
    "#  INT303 Big Data Analytics\n",
    "\n",
    "\n",
    "##  Lab 6 Principal Component Analysis Demo\n",
    "\n",
    "**XJTLU**<br>\n",
    "**S1 2021**<br>\n",
    "**Instructors:** Jia WANG <br>\n",
    "**Lab Instructor:** Jia WANG <br>\n",
    "\n",
    "\n",
    "---"
   ]
  },
  {
   "cell_type": "code",
   "execution_count": 1,
   "metadata": {},
   "outputs": [
    {
     "data": {
      "text/html": [
       "<style>\n",
       "blockquote { background: #AEDE94; }\n",
       "h1 { \n",
       "    padding-top: 25px;\n",
       "    padding-bottom: 25px;\n",
       "    text-align: left; \n",
       "    padding-left: 10px;\n",
       "    background-color: #DDDDDD; \n",
       "    color: black;\n",
       "}\n",
       "h2 { \n",
       "    padding-top: 10px;\n",
       "    padding-bottom: 10px;\n",
       "    text-align: left; \n",
       "    padding-left: 5px;\n",
       "    background-color: #EEEEEE; \n",
       "    color: black;\n",
       "}\n",
       "\n",
       "div.exercise {\n",
       "\tbackground-color: #ffcccc;\n",
       "\tborder-color: #E9967A; \t\n",
       "\tborder-left: 5px solid #800080; \n",
       "\tpadding: 0.5em;\n",
       "}\n",
       "\n",
       "div.exercise-r {\n",
       "\tbackground-color: #fce8e8;\n",
       "\tborder-color: #E9967A; \t\n",
       "\tborder-left: 5px solid #800080; \n",
       "\tpadding: 0.5em;\n",
       "}\n",
       "\n",
       "\n",
       "span.sub-q {\n",
       "\tfont-weight: bold;\n",
       "}\n",
       "div.theme {\n",
       "\tbackground-color: #DDDDDD;\n",
       "\tborder-color: #E9967A; \t\n",
       "\tborder-left: 5px solid #800080; \n",
       "\tpadding: 0.5em;\n",
       "\tfont-size: 18pt;\n",
       "}\n",
       "div.gc { \n",
       "\tbackground-color: #AEDE94;\n",
       "\tborder-color: #E9967A; \t \n",
       "\tborder-left: 5px solid #800080; \n",
       "\tpadding: 0.5em;\n",
       "\tfont-size: 12pt;\n",
       "}\n",
       "p.q1 { \n",
       "    padding-top: 5px;\n",
       "    padding-bottom: 5px;\n",
       "    text-align: left; \n",
       "    padding-left: 5px;\n",
       "    background-color: #EEEEEE; \n",
       "    color: black;\n",
       "}\n",
       "header {\n",
       "   padding-top: 35px;\n",
       "    padding-bottom: 35px;\n",
       "    text-align: left; \n",
       "    padding-left: 10px;\n",
       "    background-color: #DDDDDD; \n",
       "    color: black;\n",
       "}\n",
       "</style>\n",
       "\n"
      ],
      "text/plain": [
       "<IPython.core.display.HTML object>"
      ]
     },
     "execution_count": 1,
     "metadata": {},
     "output_type": "execute_result"
    }
   ],
   "source": [
    "## RUN THIS CELL TO PROPERLY HIGHLIGHT THE EXERCISES\n",
    "import requests\n",
    "from IPython.core.display import HTML\n",
    "styles = requests.get(\"https://raw.githubusercontent.com/Harvard-IACS/2018-CS109A/master/content/styles/cs109.css\").text\n",
    "HTML(styles)"
   ]
  },
  {
   "cell_type": "code",
   "execution_count": 4,
   "metadata": {},
   "outputs": [],
   "source": [
    "import pandas as pd\n",
    "import sys\n",
    "import numpy as np\n",
    "import scipy as sp\n",
    "import matplotlib.pyplot as plt\n",
    "import seaborn as sns\n",
    "import sklearn as sk\n",
    "from sklearn.preprocessing import MinMaxScaler\n",
    "from sklearn.model_selection import KFold\n",
    "from sklearn.linear_model import LinearRegression\n",
    "from sklearn.linear_model import Ridge\n",
    "from sklearn.linear_model import Lasso\n",
    "from sklearn.preprocessing import PolynomialFeatures\n",
    "from sklearn.neighbors import KNeighborsRegressor\n",
    "from sklearn.decomposition import PCA\n",
    "sns.set(style=\"ticks\")\n",
    "%matplotlib inline"
   ]
  },
  {
   "cell_type": "code",
   "execution_count": 6,
   "metadata": {},
   "outputs": [
    {
     "ename": "FileNotFoundError",
     "evalue": "[Errno 2] File b'./data/nyc_car_hire_data.csv' does not exist: b'./data/nyc_car_hire_data.csv'",
     "output_type": "error",
     "traceback": [
      "\u001b[0;31m---------------------------------------------------------------------------\u001b[0m",
      "\u001b[0;31mFileNotFoundError\u001b[0m                         Traceback (most recent call last)",
      "\u001b[0;32m<ipython-input-6-0611bc9ce2c7>\u001b[0m in \u001b[0;36m<module>\u001b[0;34m\u001b[0m\n\u001b[0;32m----> 1\u001b[0;31m \u001b[0mnyc_cab_df\u001b[0m \u001b[0;34m=\u001b[0m \u001b[0mpd\u001b[0m\u001b[0;34m.\u001b[0m\u001b[0mread_csv\u001b[0m\u001b[0;34m(\u001b[0m\u001b[0;34m'./data/nyc_car_hire_data.csv'\u001b[0m\u001b[0;34m,\u001b[0m \u001b[0mlow_memory\u001b[0m\u001b[0;34m=\u001b[0m\u001b[0;32mFalse\u001b[0m\u001b[0;34m)\u001b[0m\u001b[0;34m\u001b[0m\u001b[0;34m\u001b[0m\u001b[0m\n\u001b[0m",
      "\u001b[0;32m~/Library/Python/3.7/lib/python/site-packages/pandas/io/parsers.py\u001b[0m in \u001b[0;36mparser_f\u001b[0;34m(filepath_or_buffer, sep, delimiter, header, names, index_col, usecols, squeeze, prefix, mangle_dupe_cols, dtype, engine, converters, true_values, false_values, skipinitialspace, skiprows, skipfooter, nrows, na_values, keep_default_na, na_filter, verbose, skip_blank_lines, parse_dates, infer_datetime_format, keep_date_col, date_parser, dayfirst, iterator, chunksize, compression, thousands, decimal, lineterminator, quotechar, quoting, doublequote, escapechar, comment, encoding, dialect, tupleize_cols, error_bad_lines, warn_bad_lines, delim_whitespace, low_memory, memory_map, float_precision)\u001b[0m\n\u001b[1;32m    700\u001b[0m                     skip_blank_lines=skip_blank_lines)\n\u001b[1;32m    701\u001b[0m \u001b[0;34m\u001b[0m\u001b[0m\n\u001b[0;32m--> 702\u001b[0;31m         \u001b[0;32mreturn\u001b[0m \u001b[0m_read\u001b[0m\u001b[0;34m(\u001b[0m\u001b[0mfilepath_or_buffer\u001b[0m\u001b[0;34m,\u001b[0m \u001b[0mkwds\u001b[0m\u001b[0;34m)\u001b[0m\u001b[0;34m\u001b[0m\u001b[0;34m\u001b[0m\u001b[0m\n\u001b[0m\u001b[1;32m    703\u001b[0m \u001b[0;34m\u001b[0m\u001b[0m\n\u001b[1;32m    704\u001b[0m     \u001b[0mparser_f\u001b[0m\u001b[0;34m.\u001b[0m\u001b[0m__name__\u001b[0m \u001b[0;34m=\u001b[0m \u001b[0mname\u001b[0m\u001b[0;34m\u001b[0m\u001b[0;34m\u001b[0m\u001b[0m\n",
      "\u001b[0;32m~/Library/Python/3.7/lib/python/site-packages/pandas/io/parsers.py\u001b[0m in \u001b[0;36m_read\u001b[0;34m(filepath_or_buffer, kwds)\u001b[0m\n\u001b[1;32m    427\u001b[0m \u001b[0;34m\u001b[0m\u001b[0m\n\u001b[1;32m    428\u001b[0m     \u001b[0;31m# Create the parser.\u001b[0m\u001b[0;34m\u001b[0m\u001b[0;34m\u001b[0m\u001b[0;34m\u001b[0m\u001b[0m\n\u001b[0;32m--> 429\u001b[0;31m     \u001b[0mparser\u001b[0m \u001b[0;34m=\u001b[0m \u001b[0mTextFileReader\u001b[0m\u001b[0;34m(\u001b[0m\u001b[0mfilepath_or_buffer\u001b[0m\u001b[0;34m,\u001b[0m \u001b[0;34m**\u001b[0m\u001b[0mkwds\u001b[0m\u001b[0;34m)\u001b[0m\u001b[0;34m\u001b[0m\u001b[0;34m\u001b[0m\u001b[0m\n\u001b[0m\u001b[1;32m    430\u001b[0m \u001b[0;34m\u001b[0m\u001b[0m\n\u001b[1;32m    431\u001b[0m     \u001b[0;32mif\u001b[0m \u001b[0mchunksize\u001b[0m \u001b[0;32mor\u001b[0m \u001b[0miterator\u001b[0m\u001b[0;34m:\u001b[0m\u001b[0;34m\u001b[0m\u001b[0;34m\u001b[0m\u001b[0m\n",
      "\u001b[0;32m~/Library/Python/3.7/lib/python/site-packages/pandas/io/parsers.py\u001b[0m in \u001b[0;36m__init__\u001b[0;34m(self, f, engine, **kwds)\u001b[0m\n\u001b[1;32m    893\u001b[0m             \u001b[0mself\u001b[0m\u001b[0;34m.\u001b[0m\u001b[0moptions\u001b[0m\u001b[0;34m[\u001b[0m\u001b[0;34m'has_index_names'\u001b[0m\u001b[0;34m]\u001b[0m \u001b[0;34m=\u001b[0m \u001b[0mkwds\u001b[0m\u001b[0;34m[\u001b[0m\u001b[0;34m'has_index_names'\u001b[0m\u001b[0;34m]\u001b[0m\u001b[0;34m\u001b[0m\u001b[0;34m\u001b[0m\u001b[0m\n\u001b[1;32m    894\u001b[0m \u001b[0;34m\u001b[0m\u001b[0m\n\u001b[0;32m--> 895\u001b[0;31m         \u001b[0mself\u001b[0m\u001b[0;34m.\u001b[0m\u001b[0m_make_engine\u001b[0m\u001b[0;34m(\u001b[0m\u001b[0mself\u001b[0m\u001b[0;34m.\u001b[0m\u001b[0mengine\u001b[0m\u001b[0;34m)\u001b[0m\u001b[0;34m\u001b[0m\u001b[0;34m\u001b[0m\u001b[0m\n\u001b[0m\u001b[1;32m    896\u001b[0m \u001b[0;34m\u001b[0m\u001b[0m\n\u001b[1;32m    897\u001b[0m     \u001b[0;32mdef\u001b[0m \u001b[0mclose\u001b[0m\u001b[0;34m(\u001b[0m\u001b[0mself\u001b[0m\u001b[0;34m)\u001b[0m\u001b[0;34m:\u001b[0m\u001b[0;34m\u001b[0m\u001b[0;34m\u001b[0m\u001b[0m\n",
      "\u001b[0;32m~/Library/Python/3.7/lib/python/site-packages/pandas/io/parsers.py\u001b[0m in \u001b[0;36m_make_engine\u001b[0;34m(self, engine)\u001b[0m\n\u001b[1;32m   1120\u001b[0m     \u001b[0;32mdef\u001b[0m \u001b[0m_make_engine\u001b[0m\u001b[0;34m(\u001b[0m\u001b[0mself\u001b[0m\u001b[0;34m,\u001b[0m \u001b[0mengine\u001b[0m\u001b[0;34m=\u001b[0m\u001b[0;34m'c'\u001b[0m\u001b[0;34m)\u001b[0m\u001b[0;34m:\u001b[0m\u001b[0;34m\u001b[0m\u001b[0;34m\u001b[0m\u001b[0m\n\u001b[1;32m   1121\u001b[0m         \u001b[0;32mif\u001b[0m \u001b[0mengine\u001b[0m \u001b[0;34m==\u001b[0m \u001b[0;34m'c'\u001b[0m\u001b[0;34m:\u001b[0m\u001b[0;34m\u001b[0m\u001b[0;34m\u001b[0m\u001b[0m\n\u001b[0;32m-> 1122\u001b[0;31m             \u001b[0mself\u001b[0m\u001b[0;34m.\u001b[0m\u001b[0m_engine\u001b[0m \u001b[0;34m=\u001b[0m \u001b[0mCParserWrapper\u001b[0m\u001b[0;34m(\u001b[0m\u001b[0mself\u001b[0m\u001b[0;34m.\u001b[0m\u001b[0mf\u001b[0m\u001b[0;34m,\u001b[0m \u001b[0;34m**\u001b[0m\u001b[0mself\u001b[0m\u001b[0;34m.\u001b[0m\u001b[0moptions\u001b[0m\u001b[0;34m)\u001b[0m\u001b[0;34m\u001b[0m\u001b[0;34m\u001b[0m\u001b[0m\n\u001b[0m\u001b[1;32m   1123\u001b[0m         \u001b[0;32melse\u001b[0m\u001b[0;34m:\u001b[0m\u001b[0;34m\u001b[0m\u001b[0;34m\u001b[0m\u001b[0m\n\u001b[1;32m   1124\u001b[0m             \u001b[0;32mif\u001b[0m \u001b[0mengine\u001b[0m \u001b[0;34m==\u001b[0m \u001b[0;34m'python'\u001b[0m\u001b[0;34m:\u001b[0m\u001b[0;34m\u001b[0m\u001b[0;34m\u001b[0m\u001b[0m\n",
      "\u001b[0;32m~/Library/Python/3.7/lib/python/site-packages/pandas/io/parsers.py\u001b[0m in \u001b[0;36m__init__\u001b[0;34m(self, src, **kwds)\u001b[0m\n\u001b[1;32m   1851\u001b[0m         \u001b[0mkwds\u001b[0m\u001b[0;34m[\u001b[0m\u001b[0;34m'usecols'\u001b[0m\u001b[0;34m]\u001b[0m \u001b[0;34m=\u001b[0m \u001b[0mself\u001b[0m\u001b[0;34m.\u001b[0m\u001b[0musecols\u001b[0m\u001b[0;34m\u001b[0m\u001b[0;34m\u001b[0m\u001b[0m\n\u001b[1;32m   1852\u001b[0m \u001b[0;34m\u001b[0m\u001b[0m\n\u001b[0;32m-> 1853\u001b[0;31m         \u001b[0mself\u001b[0m\u001b[0;34m.\u001b[0m\u001b[0m_reader\u001b[0m \u001b[0;34m=\u001b[0m \u001b[0mparsers\u001b[0m\u001b[0;34m.\u001b[0m\u001b[0mTextReader\u001b[0m\u001b[0;34m(\u001b[0m\u001b[0msrc\u001b[0m\u001b[0;34m,\u001b[0m \u001b[0;34m**\u001b[0m\u001b[0mkwds\u001b[0m\u001b[0;34m)\u001b[0m\u001b[0;34m\u001b[0m\u001b[0;34m\u001b[0m\u001b[0m\n\u001b[0m\u001b[1;32m   1854\u001b[0m         \u001b[0mself\u001b[0m\u001b[0;34m.\u001b[0m\u001b[0munnamed_cols\u001b[0m \u001b[0;34m=\u001b[0m \u001b[0mself\u001b[0m\u001b[0;34m.\u001b[0m\u001b[0m_reader\u001b[0m\u001b[0;34m.\u001b[0m\u001b[0munnamed_cols\u001b[0m\u001b[0;34m\u001b[0m\u001b[0;34m\u001b[0m\u001b[0m\n\u001b[1;32m   1855\u001b[0m \u001b[0;34m\u001b[0m\u001b[0m\n",
      "\u001b[0;32mpandas/_libs/parsers.pyx\u001b[0m in \u001b[0;36mpandas._libs.parsers.TextReader.__cinit__\u001b[0;34m()\u001b[0m\n",
      "\u001b[0;32mpandas/_libs/parsers.pyx\u001b[0m in \u001b[0;36mpandas._libs.parsers.TextReader._setup_parser_source\u001b[0;34m()\u001b[0m\n",
      "\u001b[0;31mFileNotFoundError\u001b[0m: [Errno 2] File b'./data/nyc_car_hire_data.csv' does not exist: b'./data/nyc_car_hire_data.csv'"
     ]
    }
   ],
   "source": [
    "nyc_cab_df = pd.read_csv('./data/nyc_car_hire_data.csv', low_memory=False)\n"
   ]
  },
  {
   "cell_type": "code",
   "execution_count": 11,
   "metadata": {},
   "outputs": [
    {
     "name": "stdout",
     "output_type": "stream",
     "text": [
      "(1873671, 30)\n"
     ]
    },
    {
     "data": {
      "text/html": [
       "<div>\n",
       "<style>\n",
       "    .dataframe thead tr:only-child th {\n",
       "        text-align: right;\n",
       "    }\n",
       "\n",
       "    .dataframe thead th {\n",
       "        text-align: left;\n",
       "    }\n",
       "\n",
       "    .dataframe tbody tr th {\n",
       "        vertical-align: top;\n",
       "    }\n",
       "</style>\n",
       "<table border=\"1\" class=\"dataframe\">\n",
       "  <thead>\n",
       "    <tr style=\"text-align: right;\">\n",
       "      <th></th>\n",
       "      <th>AWND</th>\n",
       "      <th>Base</th>\n",
       "      <th>Day</th>\n",
       "      <th>Dropoff_latitude</th>\n",
       "      <th>Dropoff_longitude</th>\n",
       "      <th>Ehail_fee</th>\n",
       "      <th>Extra</th>\n",
       "      <th>Fare_amount</th>\n",
       "      <th>Lpep_dropoff_datetime</th>\n",
       "      <th>MTA_tax</th>\n",
       "      <th>...</th>\n",
       "      <th>TMIN</th>\n",
       "      <th>Tip_amount</th>\n",
       "      <th>Tolls_amount</th>\n",
       "      <th>Total_amount</th>\n",
       "      <th>Trip_distance</th>\n",
       "      <th>Trip_type</th>\n",
       "      <th>Type</th>\n",
       "      <th>VendorID</th>\n",
       "      <th>lpep_pickup_datetime</th>\n",
       "      <th>Trip Length (min)</th>\n",
       "    </tr>\n",
       "  </thead>\n",
       "  <tbody>\n",
       "    <tr>\n",
       "      <th>0</th>\n",
       "      <td>4.7</td>\n",
       "      <td>B02512</td>\n",
       "      <td>1</td>\n",
       "      <td>NaN</td>\n",
       "      <td>NaN</td>\n",
       "      <td>NaN</td>\n",
       "      <td>NaN</td>\n",
       "      <td>33.863498</td>\n",
       "      <td>2014-04-01 00:24:00</td>\n",
       "      <td>NaN</td>\n",
       "      <td>...</td>\n",
       "      <td>39</td>\n",
       "      <td>NaN</td>\n",
       "      <td>NaN</td>\n",
       "      <td>NaN</td>\n",
       "      <td>4.083561</td>\n",
       "      <td>NaN</td>\n",
       "      <td>1</td>\n",
       "      <td>NaN</td>\n",
       "      <td>2014-04-01 00:11:00</td>\n",
       "      <td>13.0</td>\n",
       "    </tr>\n",
       "    <tr>\n",
       "      <th>1</th>\n",
       "      <td>4.7</td>\n",
       "      <td>B02512</td>\n",
       "      <td>1</td>\n",
       "      <td>NaN</td>\n",
       "      <td>NaN</td>\n",
       "      <td>NaN</td>\n",
       "      <td>NaN</td>\n",
       "      <td>19.022892</td>\n",
       "      <td>2014-04-01 00:29:00</td>\n",
       "      <td>NaN</td>\n",
       "      <td>...</td>\n",
       "      <td>39</td>\n",
       "      <td>NaN</td>\n",
       "      <td>NaN</td>\n",
       "      <td>NaN</td>\n",
       "      <td>3.605694</td>\n",
       "      <td>NaN</td>\n",
       "      <td>1</td>\n",
       "      <td>NaN</td>\n",
       "      <td>2014-04-01 00:17:00</td>\n",
       "      <td>12.0</td>\n",
       "    </tr>\n",
       "    <tr>\n",
       "      <th>2</th>\n",
       "      <td>4.7</td>\n",
       "      <td>B02512</td>\n",
       "      <td>1</td>\n",
       "      <td>NaN</td>\n",
       "      <td>NaN</td>\n",
       "      <td>NaN</td>\n",
       "      <td>NaN</td>\n",
       "      <td>25.498981</td>\n",
       "      <td>2014-04-01 00:34:00</td>\n",
       "      <td>NaN</td>\n",
       "      <td>...</td>\n",
       "      <td>39</td>\n",
       "      <td>NaN</td>\n",
       "      <td>NaN</td>\n",
       "      <td>NaN</td>\n",
       "      <td>4.221763</td>\n",
       "      <td>NaN</td>\n",
       "      <td>1</td>\n",
       "      <td>NaN</td>\n",
       "      <td>2014-04-01 00:21:00</td>\n",
       "      <td>13.0</td>\n",
       "    </tr>\n",
       "    <tr>\n",
       "      <th>3</th>\n",
       "      <td>4.7</td>\n",
       "      <td>B02512</td>\n",
       "      <td>1</td>\n",
       "      <td>NaN</td>\n",
       "      <td>NaN</td>\n",
       "      <td>NaN</td>\n",
       "      <td>NaN</td>\n",
       "      <td>28.024628</td>\n",
       "      <td>2014-04-01 00:39:00</td>\n",
       "      <td>NaN</td>\n",
       "      <td>...</td>\n",
       "      <td>39</td>\n",
       "      <td>NaN</td>\n",
       "      <td>NaN</td>\n",
       "      <td>NaN</td>\n",
       "      <td>2.955510</td>\n",
       "      <td>NaN</td>\n",
       "      <td>1</td>\n",
       "      <td>NaN</td>\n",
       "      <td>2014-04-01 00:28:00</td>\n",
       "      <td>11.0</td>\n",
       "    </tr>\n",
       "    <tr>\n",
       "      <th>4</th>\n",
       "      <td>4.7</td>\n",
       "      <td>B02512</td>\n",
       "      <td>1</td>\n",
       "      <td>NaN</td>\n",
       "      <td>NaN</td>\n",
       "      <td>NaN</td>\n",
       "      <td>NaN</td>\n",
       "      <td>12.083589</td>\n",
       "      <td>2014-04-01 00:40:00</td>\n",
       "      <td>NaN</td>\n",
       "      <td>...</td>\n",
       "      <td>39</td>\n",
       "      <td>NaN</td>\n",
       "      <td>NaN</td>\n",
       "      <td>NaN</td>\n",
       "      <td>1.922292</td>\n",
       "      <td>NaN</td>\n",
       "      <td>1</td>\n",
       "      <td>NaN</td>\n",
       "      <td>2014-04-01 00:33:00</td>\n",
       "      <td>7.0</td>\n",
       "    </tr>\n",
       "  </tbody>\n",
       "</table>\n",
       "<p>5 rows × 30 columns</p>\n",
       "</div>"
      ],
      "text/plain": [
       "   AWND    Base  Day  Dropoff_latitude  Dropoff_longitude  Ehail_fee  Extra  \\\n",
       "0   4.7  B02512    1               NaN                NaN        NaN    NaN   \n",
       "1   4.7  B02512    1               NaN                NaN        NaN    NaN   \n",
       "2   4.7  B02512    1               NaN                NaN        NaN    NaN   \n",
       "3   4.7  B02512    1               NaN                NaN        NaN    NaN   \n",
       "4   4.7  B02512    1               NaN                NaN        NaN    NaN   \n",
       "\n",
       "   Fare_amount Lpep_dropoff_datetime  MTA_tax        ...          TMIN  \\\n",
       "0    33.863498   2014-04-01 00:24:00      NaN        ...            39   \n",
       "1    19.022892   2014-04-01 00:29:00      NaN        ...            39   \n",
       "2    25.498981   2014-04-01 00:34:00      NaN        ...            39   \n",
       "3    28.024628   2014-04-01 00:39:00      NaN        ...            39   \n",
       "4    12.083589   2014-04-01 00:40:00      NaN        ...            39   \n",
       "\n",
       "   Tip_amount  Tolls_amount  Total_amount  Trip_distance  Trip_type  Type  \\\n",
       "0         NaN           NaN           NaN       4.083561        NaN     1   \n",
       "1         NaN           NaN           NaN       3.605694        NaN     1   \n",
       "2         NaN           NaN           NaN       4.221763        NaN     1   \n",
       "3         NaN           NaN           NaN       2.955510        NaN     1   \n",
       "4         NaN           NaN           NaN       1.922292        NaN     1   \n",
       "\n",
       "   VendorID lpep_pickup_datetime  Trip Length (min)  \n",
       "0       NaN  2014-04-01 00:11:00               13.0  \n",
       "1       NaN  2014-04-01 00:17:00               12.0  \n",
       "2       NaN  2014-04-01 00:21:00               13.0  \n",
       "3       NaN  2014-04-01 00:28:00               11.0  \n",
       "4       NaN  2014-04-01 00:33:00                7.0  \n",
       "\n",
       "[5 rows x 30 columns]"
      ]
     },
     "execution_count": 11,
     "metadata": {},
     "output_type": "execute_result"
    }
   ],
   "source": [
    "print(nyc_cab_df.shape)\n",
    "nyc_cab_df.head()"
   ]
  },
  {
   "cell_type": "code",
   "execution_count": 3,
   "metadata": {
    "collapsed": true
   },
   "outputs": [],
   "source": [
    "def train_test_split(df, n_samples, validation=False):\n",
    "    if validation:\n",
    "        nyc_cab_sample = df.sample(n=n_samples)\n",
    "\n",
    "        nyc_cab_sample['lpep_pickup_datetime'] = nyc_cab_sample['lpep_pickup_datetime'].apply(lambda dt: pd.to_datetime(dt).hour)\n",
    "        nyc_cab_sample['Lpep_dropoff_datetime'] = nyc_cab_sample['Lpep_dropoff_datetime'].apply(lambda dt: pd.to_datetime(dt).hour)\n",
    "\n",
    "        msk = np.random.rand(len(nyc_cab_sample)) < 0.8\n",
    "        non_test = nyc_cab_sample[msk]\n",
    "        test = nyc_cab_sample[~msk]\n",
    "        \n",
    "        msk = np.random.rand(len(non_test)) < 0.7\n",
    "        train = non_test[msk]\n",
    "        validation = non_test[~msk]\n",
    "        \n",
    "        return train, validation, test\n",
    "    \n",
    "    else:\n",
    "        nyc_cab_sample = df.sample(n=n_samples)\n",
    "\n",
    "        nyc_cab_sample['lpep_pickup_datetime'] = nyc_cab_sample['lpep_pickup_datetime'].apply(lambda dt: pd.to_datetime(dt).hour)\n",
    "        nyc_cab_sample['Lpep_dropoff_datetime'] = nyc_cab_sample['Lpep_dropoff_datetime'].apply(lambda dt: pd.to_datetime(dt).hour)\n",
    "\n",
    "        msk = np.random.rand(len(nyc_cab_sample)) < 0.8\n",
    "        train = nyc_cab_sample[msk]\n",
    "        test = nyc_cab_sample[~msk]\n",
    "\n",
    "        return train, test"
   ]
  },
  {
   "cell_type": "markdown",
   "metadata": {},
   "source": [
    "---"
   ]
  },
  {
   "cell_type": "markdown",
   "metadata": {},
   "source": [
    "## Dimensionality Reduction: PCA"
   ]
  },
  {
   "cell_type": "code",
   "execution_count": 4,
   "metadata": {},
   "outputs": [
    {
     "data": {
      "text/html": [
       "<div>\n",
       "<style>\n",
       "    .dataframe thead tr:only-child th {\n",
       "        text-align: right;\n",
       "    }\n",
       "\n",
       "    .dataframe thead th {\n",
       "        text-align: left;\n",
       "    }\n",
       "\n",
       "    .dataframe tbody tr th {\n",
       "        vertical-align: top;\n",
       "    }\n",
       "</style>\n",
       "<table border=\"1\" class=\"dataframe\">\n",
       "  <thead>\n",
       "    <tr style=\"text-align: right;\">\n",
       "      <th></th>\n",
       "      <th>AWND</th>\n",
       "      <th>Day</th>\n",
       "      <th>Dropoff_latitude</th>\n",
       "      <th>Dropoff_longitude</th>\n",
       "      <th>Ehail_fee</th>\n",
       "      <th>Extra</th>\n",
       "      <th>Fare_amount</th>\n",
       "      <th>Lpep_dropoff_datetime</th>\n",
       "      <th>MTA_tax</th>\n",
       "      <th>PRCP</th>\n",
       "      <th>...</th>\n",
       "      <th>TMIN</th>\n",
       "      <th>Tip_amount</th>\n",
       "      <th>Tolls_amount</th>\n",
       "      <th>Total_amount</th>\n",
       "      <th>Trip_distance</th>\n",
       "      <th>Trip_type</th>\n",
       "      <th>Type</th>\n",
       "      <th>VendorID</th>\n",
       "      <th>lpep_pickup_datetime</th>\n",
       "      <th>Trip Length (min)</th>\n",
       "    </tr>\n",
       "  </thead>\n",
       "  <tbody>\n",
       "    <tr>\n",
       "      <th>count</th>\n",
       "      <td>533.000000</td>\n",
       "      <td>533.000000</td>\n",
       "      <td>381.000000</td>\n",
       "      <td>381.000000</td>\n",
       "      <td>0.0</td>\n",
       "      <td>381.000000</td>\n",
       "      <td>533.000000</td>\n",
       "      <td>533.000000</td>\n",
       "      <td>381.000000</td>\n",
       "      <td>533.000000</td>\n",
       "      <td>...</td>\n",
       "      <td>533.000000</td>\n",
       "      <td>381.000000</td>\n",
       "      <td>381.000000</td>\n",
       "      <td>381.000000</td>\n",
       "      <td>533.000000</td>\n",
       "      <td>360.000000</td>\n",
       "      <td>533.000000</td>\n",
       "      <td>381.000000</td>\n",
       "      <td>533.000000</td>\n",
       "      <td>533.000000</td>\n",
       "    </tr>\n",
       "    <tr>\n",
       "      <th>mean</th>\n",
       "      <td>6.272983</td>\n",
       "      <td>15.260788</td>\n",
       "      <td>40.647671</td>\n",
       "      <td>-73.737406</td>\n",
       "      <td>NaN</td>\n",
       "      <td>0.393701</td>\n",
       "      <td>14.927224</td>\n",
       "      <td>13.962477</td>\n",
       "      <td>0.486877</td>\n",
       "      <td>0.261332</td>\n",
       "      <td>...</td>\n",
       "      <td>43.530957</td>\n",
       "      <td>1.028740</td>\n",
       "      <td>0.118320</td>\n",
       "      <td>14.544698</td>\n",
       "      <td>3.007122</td>\n",
       "      <td>1.025000</td>\n",
       "      <td>0.285178</td>\n",
       "      <td>1.784777</td>\n",
       "      <td>13.699812</td>\n",
       "      <td>11.818011</td>\n",
       "    </tr>\n",
       "    <tr>\n",
       "      <th>std</th>\n",
       "      <td>1.770641</td>\n",
       "      <td>8.697804</td>\n",
       "      <td>2.088787</td>\n",
       "      <td>3.787967</td>\n",
       "      <td>NaN</td>\n",
       "      <td>0.376776</td>\n",
       "      <td>8.881933</td>\n",
       "      <td>6.688455</td>\n",
       "      <td>0.080039</td>\n",
       "      <td>0.864190</td>\n",
       "      <td>...</td>\n",
       "      <td>6.127520</td>\n",
       "      <td>1.860855</td>\n",
       "      <td>0.774411</td>\n",
       "      <td>9.926822</td>\n",
       "      <td>2.512425</td>\n",
       "      <td>0.156342</td>\n",
       "      <td>0.451923</td>\n",
       "      <td>0.411517</td>\n",
       "      <td>6.679557</td>\n",
       "      <td>8.243857</td>\n",
       "    </tr>\n",
       "    <tr>\n",
       "      <th>min</th>\n",
       "      <td>2.000000</td>\n",
       "      <td>1.000000</td>\n",
       "      <td>0.000000</td>\n",
       "      <td>-74.016167</td>\n",
       "      <td>NaN</td>\n",
       "      <td>0.000000</td>\n",
       "      <td>0.000000</td>\n",
       "      <td>0.000000</td>\n",
       "      <td>0.000000</td>\n",
       "      <td>0.000000</td>\n",
       "      <td>...</td>\n",
       "      <td>31.000000</td>\n",
       "      <td>0.000000</td>\n",
       "      <td>0.000000</td>\n",
       "      <td>0.000000</td>\n",
       "      <td>0.000000</td>\n",
       "      <td>1.000000</td>\n",
       "      <td>0.000000</td>\n",
       "      <td>1.000000</td>\n",
       "      <td>0.000000</td>\n",
       "      <td>0.000000</td>\n",
       "    </tr>\n",
       "    <tr>\n",
       "      <th>25%</th>\n",
       "      <td>4.900000</td>\n",
       "      <td>8.000000</td>\n",
       "      <td>40.714752</td>\n",
       "      <td>-73.968994</td>\n",
       "      <td>NaN</td>\n",
       "      <td>0.000000</td>\n",
       "      <td>8.000000</td>\n",
       "      <td>10.000000</td>\n",
       "      <td>0.500000</td>\n",
       "      <td>0.000000</td>\n",
       "      <td>...</td>\n",
       "      <td>40.000000</td>\n",
       "      <td>0.000000</td>\n",
       "      <td>0.000000</td>\n",
       "      <td>8.000000</td>\n",
       "      <td>1.520000</td>\n",
       "      <td>1.000000</td>\n",
       "      <td>0.000000</td>\n",
       "      <td>2.000000</td>\n",
       "      <td>9.000000</td>\n",
       "      <td>7.000000</td>\n",
       "    </tr>\n",
       "    <tr>\n",
       "      <th>50%</th>\n",
       "      <td>5.800000</td>\n",
       "      <td>15.000000</td>\n",
       "      <td>40.754448</td>\n",
       "      <td>-73.943794</td>\n",
       "      <td>NaN</td>\n",
       "      <td>0.500000</td>\n",
       "      <td>13.000000</td>\n",
       "      <td>16.000000</td>\n",
       "      <td>0.500000</td>\n",
       "      <td>0.000000</td>\n",
       "      <td>...</td>\n",
       "      <td>43.000000</td>\n",
       "      <td>0.000000</td>\n",
       "      <td>0.000000</td>\n",
       "      <td>11.900000</td>\n",
       "      <td>2.406727</td>\n",
       "      <td>1.000000</td>\n",
       "      <td>0.000000</td>\n",
       "      <td>2.000000</td>\n",
       "      <td>15.000000</td>\n",
       "      <td>10.000000</td>\n",
       "    </tr>\n",
       "    <tr>\n",
       "      <th>75%</th>\n",
       "      <td>8.300000</td>\n",
       "      <td>23.000000</td>\n",
       "      <td>40.801552</td>\n",
       "      <td>-73.901405</td>\n",
       "      <td>NaN</td>\n",
       "      <td>0.500000</td>\n",
       "      <td>20.275281</td>\n",
       "      <td>19.000000</td>\n",
       "      <td>0.500000</td>\n",
       "      <td>0.070000</td>\n",
       "      <td>...</td>\n",
       "      <td>46.000000</td>\n",
       "      <td>1.500000</td>\n",
       "      <td>0.000000</td>\n",
       "      <td>17.100000</td>\n",
       "      <td>3.630000</td>\n",
       "      <td>1.000000</td>\n",
       "      <td>1.000000</td>\n",
       "      <td>2.000000</td>\n",
       "      <td>19.000000</td>\n",
       "      <td>14.000000</td>\n",
       "    </tr>\n",
       "    <tr>\n",
       "      <th>max</th>\n",
       "      <td>9.400000</td>\n",
       "      <td>30.000000</td>\n",
       "      <td>40.932575</td>\n",
       "      <td>0.000000</td>\n",
       "      <td>NaN</td>\n",
       "      <td>1.000000</td>\n",
       "      <td>58.500000</td>\n",
       "      <td>23.000000</td>\n",
       "      <td>0.500000</td>\n",
       "      <td>4.970000</td>\n",
       "      <td>...</td>\n",
       "      <td>59.000000</td>\n",
       "      <td>11.620000</td>\n",
       "      <td>5.330000</td>\n",
       "      <td>69.330000</td>\n",
       "      <td>20.880000</td>\n",
       "      <td>2.000000</td>\n",
       "      <td>1.000000</td>\n",
       "      <td>2.000000</td>\n",
       "      <td>23.000000</td>\n",
       "      <td>54.000000</td>\n",
       "    </tr>\n",
       "  </tbody>\n",
       "</table>\n",
       "<p>8 rows × 28 columns</p>\n",
       "</div>"
      ],
      "text/plain": [
       "             AWND         Day  Dropoff_latitude  Dropoff_longitude  Ehail_fee  \\\n",
       "count  533.000000  533.000000        381.000000         381.000000        0.0   \n",
       "mean     6.272983   15.260788         40.647671         -73.737406        NaN   \n",
       "std      1.770641    8.697804          2.088787           3.787967        NaN   \n",
       "min      2.000000    1.000000          0.000000         -74.016167        NaN   \n",
       "25%      4.900000    8.000000         40.714752         -73.968994        NaN   \n",
       "50%      5.800000   15.000000         40.754448         -73.943794        NaN   \n",
       "75%      8.300000   23.000000         40.801552         -73.901405        NaN   \n",
       "max      9.400000   30.000000         40.932575           0.000000        NaN   \n",
       "\n",
       "            Extra  Fare_amount  Lpep_dropoff_datetime     MTA_tax        PRCP  \\\n",
       "count  381.000000   533.000000             533.000000  381.000000  533.000000   \n",
       "mean     0.393701    14.927224              13.962477    0.486877    0.261332   \n",
       "std      0.376776     8.881933               6.688455    0.080039    0.864190   \n",
       "min      0.000000     0.000000               0.000000    0.000000    0.000000   \n",
       "25%      0.000000     8.000000              10.000000    0.500000    0.000000   \n",
       "50%      0.500000    13.000000              16.000000    0.500000    0.000000   \n",
       "75%      0.500000    20.275281              19.000000    0.500000    0.070000   \n",
       "max      1.000000    58.500000              23.000000    0.500000    4.970000   \n",
       "\n",
       "             ...                TMIN  Tip_amount  Tolls_amount  Total_amount  \\\n",
       "count        ...          533.000000  381.000000    381.000000    381.000000   \n",
       "mean         ...           43.530957    1.028740      0.118320     14.544698   \n",
       "std          ...            6.127520    1.860855      0.774411      9.926822   \n",
       "min          ...           31.000000    0.000000      0.000000      0.000000   \n",
       "25%          ...           40.000000    0.000000      0.000000      8.000000   \n",
       "50%          ...           43.000000    0.000000      0.000000     11.900000   \n",
       "75%          ...           46.000000    1.500000      0.000000     17.100000   \n",
       "max          ...           59.000000   11.620000      5.330000     69.330000   \n",
       "\n",
       "       Trip_distance   Trip_type        Type    VendorID  \\\n",
       "count     533.000000  360.000000  533.000000  381.000000   \n",
       "mean        3.007122    1.025000    0.285178    1.784777   \n",
       "std         2.512425    0.156342    0.451923    0.411517   \n",
       "min         0.000000    1.000000    0.000000    1.000000   \n",
       "25%         1.520000    1.000000    0.000000    2.000000   \n",
       "50%         2.406727    1.000000    0.000000    2.000000   \n",
       "75%         3.630000    1.000000    1.000000    2.000000   \n",
       "max        20.880000    2.000000    1.000000    2.000000   \n",
       "\n",
       "       lpep_pickup_datetime  Trip Length (min)  \n",
       "count            533.000000         533.000000  \n",
       "mean              13.699812          11.818011  \n",
       "std                6.679557           8.243857  \n",
       "min                0.000000           0.000000  \n",
       "25%                9.000000           7.000000  \n",
       "50%               15.000000          10.000000  \n",
       "75%               19.000000          14.000000  \n",
       "max               23.000000          54.000000  \n",
       "\n",
       "[8 rows x 28 columns]"
      ]
     },
     "execution_count": 4,
     "metadata": {},
     "output_type": "execute_result"
    }
   ],
   "source": [
    "train, validation, test = train_test_split(nyc_cab_df, 1000, validation=True)\n",
    "\n",
    "y_train = train['Fare_amount'].values\n",
    "y_val = validation['Fare_amount'].values\n",
    "y_test = test['Fare_amount'].values\n",
    "\n",
    "regression_model = LinearRegression(fit_intercept=True)\n",
    "\n",
    "all_predictors = ['Trip Length (min)', 'Type', 'Trip_distance', 'TMAX', 'TMIN', \n",
    "                  'lpep_pickup_datetime', 'Lpep_dropoff_datetime', 'Pickup_longitude', \n",
    "                  'Pickup_latitude', 'SNOW', 'SNWD', 'PRCP']\n",
    "\n",
    "train.describe()"
   ]
  },
  {
   "cell_type": "markdown",
   "metadata": {},
   "source": [
    "### 1. Variable Selection: Backwards"
   ]
  },
  {
   "cell_type": "code",
   "execution_count": 12,
   "metadata": {
    "collapsed": true
   },
   "outputs": [],
   "source": [
    "def get_aic(X_train, y_train):\n",
    "    X_train = add_constant(X_train)\n",
    "    model = sm.OLS(y_train, X_train).fit()\n",
    "    return model.aic\n",
    "\n",
    "X_train = train[all_predictors].values\n",
    "predictors = [(all_predictors, get_aic(X_train, y_train))]\n",
    "\n",
    "for k in range(len(all_predictors), 1, -1):\n",
    "    best_k_predictors = predictors[-1][0]\n",
    "    aics = []\n",
    "    \n",
    "    for predictor in best_k_predictors:\n",
    "        k_minus_1 = list(set(best_k_predictors) - set([predictor]))\n",
    "        X_train = train[k_minus_1].values\n",
    "\n",
    "        aics.append(get_aic(X_train, y_train))\n",
    "    \n",
    "    best_k_minus_1 = list(set(best_k_predictors) - set([best_k_predictors[np.argmin(aics)]]))\n",
    "    predictors.append((best_k_minus_1, np.min(aics)))\n",
    "    \n",
    "best_predictor_set = sorted(predictors, key=lambda t: t[1])[-1]"
   ]
  },
  {
   "cell_type": "code",
   "execution_count": 13,
   "metadata": {},
   "outputs": [
    {
     "name": "stdout",
     "output_type": "stream",
     "text": [
      "best predictor set: ['Type', 'Pickup_latitude', 'Trip_distance', 'SNWD', 'SNOW', 'Trip Length (min)']\n",
      "test R^2: 0.8696564260764411\n"
     ]
    }
   ],
   "source": [
    "best_predictor_set = sorted(predictors, key=lambda t: t[1])[0]\n",
    "\n",
    "X_train = train[best_predictor_set[0]].values\n",
    "X_val = validation[best_predictor_set[0]].values  \n",
    "X_test = test[best_predictor_set[0]].values  \n",
    "regression_model.fit(np.vstack((X_train, X_val)), np.hstack((y_train, y_val)))\n",
    "\n",
    "print('best predictor set: {}\\ntest R^2: {}'.format(best_predictor_set[0], regression_model.score(X_test, y_test)))"
   ]
  },
  {
   "cell_type": "markdown",
   "metadata": {},
   "source": [
    "## 2. Variable Selection: LASSO Regression"
   ]
  },
  {
   "cell_type": "code",
   "execution_count": 14,
   "metadata": {},
   "outputs": [
    {
     "name": "stdout",
     "output_type": "stream",
     "text": [
      "Lasso regression model:\n",
      " 0.8989838454858443 + [ 0.29912786  4.55900377  1.92934513 -0.         -0.          0.00758634\n",
      "  0.         -0.04644646  0.          0.          0.          0.        ]^T . x\n"
     ]
    }
   ],
   "source": [
    "X_train = train[all_predictors].values\n",
    "X_val = validation[all_predictors].values\n",
    "X_non_test = np.vstack((X_train, X_val))\n",
    "X_test = test[all_predictors].values\n",
    "\n",
    "y_non_test = np.hstack((y_train, y_val))\n",
    "\n",
    "lasso_regression = Lasso(alpha=1.0, fit_intercept=True)\n",
    "lasso_regression.fit(X_non_test, y_non_test)\n",
    "\n",
    "print('Lasso regression model:\\n {} + {}^T . x'.format(lasso_regression.intercept_, lasso_regression.coef_))\n",
    "\n"
   ]
  },
  {
   "cell_type": "code",
   "execution_count": 15,
   "metadata": {},
   "outputs": [
    {
     "name": "stdout",
     "output_type": "stream",
     "text": [
      "Test R^2: 0.8253541202656242\n"
     ]
    }
   ],
   "source": [
    "print('Test R^2: {}'.format(lasso_regression.score(X_test, y_test)))"
   ]
  },
  {
   "cell_type": "markdown",
   "metadata": {},
   "source": [
    "### 3. Principal Component Regression"
   ]
  },
  {
   "cell_type": "code",
   "execution_count": 24,
   "metadata": {},
   "outputs": [
    {
     "name": "stdout",
     "output_type": "stream",
     "text": [
      "First 4 principal components:\n",
      " [[  2.39129056e-02  -1.52589992e-03   2.87820181e-03   8.15273795e-01\n",
      "    5.30856898e-01  -1.66247307e-01  -1.57138583e-01   1.63510006e-02\n",
      "   -9.18124937e-03  -0.00000000e+00   0.00000000e+00  -1.59625033e-02]\n",
      " [ -4.81556857e-02  -1.64875776e-03   8.71237863e-03  -1.95383366e-01\n",
      "   -1.16363766e-01  -6.82620696e-01  -6.92730264e-01  -2.87939549e-03\n",
      "    2.04933364e-03  -0.00000000e+00  -0.00000000e+00   5.33823735e-03]\n",
      " [  9.62900731e-01  -5.74858553e-03   2.52808711e-01  -2.66439844e-02\n",
      "   -2.31060283e-02  -4.15207358e-02  -1.18366711e-02   6.63443885e-02\n",
      "   -3.68951248e-02  -0.00000000e+00  -0.00000000e+00  -2.48879974e-03]\n",
      " [ -4.24750484e-03  -1.28064076e-03  -8.79072218e-03   5.43141125e-01\n",
      "   -8.38916835e-01   2.59209473e-04  -1.26252332e-02   1.35518981e-02\n",
      "   -7.80620455e-03  -0.00000000e+00  -0.00000000e+00  -2.67441606e-02]]\n",
      "Explained variance ratio: [  3.52498964e-01   3.12127677e-01   2.40830333e-01   4.55437699e-02\n",
      "   3.29216180e-02   7.43824785e-03   4.94773071e-03   2.95866750e-03\n",
      "   7.23712321e-04   9.27988146e-06   0.00000000e+00   0.00000000e+00]\n"
     ]
    }
   ],
   "source": [
    "pca_all = PCA()\n",
    "pca_all.fit(X_non_test)\n",
    "\n",
    "print('First 4 principal components:\\n', pca_all.components_[0:4])\n",
    "print('Explained variance ratio:\\n', pca_all.explained_variance_ratio_)"
   ]
  },
  {
   "cell_type": "code",
   "execution_count": 18,
   "metadata": {},
   "outputs": [
    {
     "name": "stdout",
     "output_type": "stream",
     "text": [
      "PCA(copy=True, iterated_power='auto', n_components=4, random_state=None,\n",
      "  svd_solver='auto', tol=0.0, whiten=False)\n",
      "Explained variance ratio: [ 0.35249896  0.31212768  0.24083033  0.04554377]\n"
     ]
    }
   ],
   "source": [
    "pca = PCA(n_components=4)\n",
    "pca.fit(X_non_test)\n",
    "X_non_test_pca = pca.transform(X_non_test)\n",
    "X_test_pca = pca.transform(X_test)\n",
    "\n",
    "print('Explained variance ratio:', pca.explained_variance_ratio_)"
   ]
  },
  {
   "cell_type": "code",
   "execution_count": 10,
   "metadata": {},
   "outputs": [
    {
     "data": {
      "image/png": "[encoded data removed]",
      "text/plain": [
       "<matplotlib.figure.Figure at 0x10fbb97f0>"
      ]
     },
     "metadata": {},
     "output_type": "display_data"
    }
   ],
   "source": [
    "fig, ax = plt.subplots(1, 3, figsize=(20, 5))\n",
    "\n",
    "ax[0].scatter(X_non_test_pca[:, 0], X_non_test_pca[:, 1], color='blue', alpha=0.2, label='train R^2')\n",
    "\n",
    "ax[0].set_title('Dimension Reduced Data')\n",
    "ax[0].set_xlabel('1st Principal Component')\n",
    "ax[0].set_ylabel('2nd Principal Component')\n",
    "\n",
    "ax[1].scatter(X_non_test_pca[:, 1], X_non_test_pca[:, 2], color='red', alpha=0.2, label='train R^2')\n",
    "\n",
    "ax[1].set_title('Dimension Reduced Data')\n",
    "ax[1].set_xlabel('2nd Principal Component')\n",
    "ax[1].set_ylabel('3rd Principal Component')\n",
    "\n",
    "ax[2].scatter(X_non_test_pca[:, 2], X_non_test_pca[:, 3], color='green', alpha=0.2, label='train R^2')\n",
    "\n",
    "ax[2].set_title('Dimension Reduced Data')\n",
    "ax[2].set_xlabel('3rd Principal Component')\n",
    "ax[2].set_ylabel('4th Principal Component')\n",
    "\n",
    "plt.show()"
   ]
  },
  {
   "cell_type": "code",
   "execution_count": 11,
   "metadata": {},
   "outputs": [
    {
     "name": "stdout",
     "output_type": "stream",
     "text": [
      "first pca component: [  3.74459823e-02  -4.41680583e-05   2.16391700e-02   8.35277165e-01\n",
      "   5.47286695e-01  -1.78422690e-02   4.50116839e-03  -7.50954187e-03\n",
      "   3.85373480e-03  -0.00000000e+00   0.00000000e+00  -2.25615177e-02]\n",
      "\n",
      "second pca component: [ 0.01158085 -0.0015665   0.00907282 -0.00353292 -0.01300583 -0.69904073\n",
      " -0.71471348 -0.00889443  0.00538608  0.          0.         -0.00424857]\n",
      "\n",
      "third pca component: [ 0.96840104 -0.00701913  0.24273393 -0.01677791 -0.05000027  0.01389631\n",
      "  0.00638976 -0.01300467  0.00652527 -0.         -0.          0.00179659]\n",
      "\n",
      "fourth pca component: [ 0.03770161 -0.00150158 -0.0110018  -0.54346678  0.83106525  0.00340984\n",
      " -0.01702313  0.08682468 -0.0476665  -0.          0.          0.04814222]\n"
     ]
    }
   ],
   "source": [
    "print('first pca component:\\n', pca.components_[0])\n",
    "print('\\nsecond pca component:\\n', pca.components_[1])\n",
    "print('\\nthird pca component:\\n', pca.components_[2])\n",
    "print('\\nfourth pca component:\\n', pca.components_[3])"
   ]
  },
  {
   "cell_type": "code",
   "execution_count": 12,
   "metadata": {},
   "outputs": [
    {
     "name": "stdout",
     "output_type": "stream",
     "text": [
      "Test R^2: 0.40557538786466474\n"
     ]
    }
   ],
   "source": [
    "regression_model = LinearRegression(fit_intercept=True)\n",
    "regression_model.fit(X_non_test_pca, y_non_test)\n",
    "\n",
    "print('Test R^2: {}'.format(regression_model.score(X_test_pca, y_test)))"
   ]
  },
  {
   "cell_type": "markdown",
   "metadata": {},
   "source": [
    "### 3. Principal Component Regression With Polynomial and Interaction Terms"
   ]
  },
  {
   "cell_type": "code",
   "execution_count": 13,
   "metadata": {},
   "outputs": [
    {
     "name": "stdout",
     "output_type": "stream",
     "text": [
      "number of total predictors 18564\n"
     ]
    }
   ],
   "source": [
    "gen_poly_terms = PolynomialFeatures(degree=6, interaction_only=False)\n",
    "\n",
    "min_max_scaler = MinMaxScaler()\n",
    "X_non_test = min_max_scaler.fit_transform(X_non_test)\n",
    "X_test = min_max_scaler.fit_transform(X_test)\n",
    "\n",
    "X_train_full_poly = gen_poly_terms.fit_transform(X_non_test)\n",
    "X_test_full_poly = gen_poly_terms.fit_transform(X_test)\n",
    "\n",
    "print('number of total predictors', X_train_full_poly.shape[1])"
   ]
  },
  {
   "cell_type": "code",
   "execution_count": 14,
   "metadata": {},
   "outputs": [
    {
     "name": "stdout",
     "output_type": "stream",
     "text": [
      "Explained variance ratio: [ 0.34831056  0.24251642  0.15148248  0.07090097  0.03067547  0.02483512\n",
      "  0.02305216  0.01774889  0.01396757  0.01272761  0.0091228   0.00720203\n",
      "  0.00629478  0.00476078  0.00378663]\n"
     ]
    }
   ],
   "source": [
    "pca = PCA(n_components=15)\n",
    "pca.fit(X_train_full_poly)\n",
    "X_train_pca = pca.transform(X_train_full_poly)\n",
    "X_test_pca = pca.transform(X_test_full_poly)\n",
    "\n",
    "print('Explained variance ratio:', pca.explained_variance_ratio_)"
   ]
  },
  {
   "cell_type": "code",
   "execution_count": 15,
   "metadata": {},
   "outputs": [
    {
     "name": "stdout",
     "output_type": "stream",
     "text": [
      "Test R^2: 0.4443195849969769\n"
     ]
    }
   ],
   "source": [
    "regression_model = LinearRegression(fit_intercept=True)\n",
    "regression_model.fit(X_train_pca, y_non_test)\n",
    "\n",
    "print('Test R^2: {}'.format(regression_model.score(X_test_pca, y_test)))"
   ]
  },
  {
   "cell_type": "code",
   "execution_count": 16,
   "metadata": {},
   "outputs": [
    {
     "name": "stdout",
     "output_type": "stream",
     "text": [
      "Explained variance ratio: [  3.48310557e-01   2.42516417e-01   1.51482483e-01   7.09009680e-02\n",
      "   3.06754681e-02   2.48351214e-02   2.30521576e-02   1.77488894e-02\n",
      "   1.39675683e-02   1.27276083e-02   9.12279857e-03   7.20203211e-03\n",
      "   6.29478250e-03   4.76078391e-03   3.78662733e-03   3.27993352e-03\n",
      "   2.90603203e-03   2.61411456e-03   2.32813418e-03   2.05116201e-03\n",
      "   1.63615945e-03   1.35600233e-03   1.34275193e-03   1.25477268e-03\n",
      "   1.22923808e-03   1.17257812e-03   1.09869059e-03   1.01089645e-03\n",
      "   9.86534786e-04   8.17733249e-04   7.15182513e-04   6.12904664e-04\n",
      "   5.14975819e-04   4.38835395e-04   3.85043656e-04   3.69533207e-04\n",
      "   2.96446551e-04   2.81314538e-04   2.42052561e-04   2.24695889e-04\n",
      "   2.10274027e-04   2.05524834e-04   1.98641522e-04   1.82731790e-04\n",
      "   1.69984079e-04]\n"
     ]
    }
   ],
   "source": [
    "pca = PCA(n_components=45)\n",
    "pca.fit(X_train_full_poly)\n",
    "X_train_pca = pca.transform(X_train_full_poly)\n",
    "X_test_pca = pca.transform(X_test_full_poly)\n",
    "\n",
    "print('Explained variance ratio:', pca.explained_variance_ratio_)"
   ]
  },
  {
   "cell_type": "code",
   "execution_count": 17,
   "metadata": {},
   "outputs": [
    {
     "name": "stdout",
     "output_type": "stream",
     "text": [
      "Test R^2: 0.38504851218590935\n"
     ]
    }
   ],
   "source": [
    "regression_model = LinearRegression(fit_intercept=True)\n",
    "regression_model.fit(X_train_pca, y_non_test)\n",
    "\n",
    "print('Test R^2: {}'.format(regression_model.score(X_test_pca, y_test)))"
   ]
  },
  {
   "cell_type": "markdown",
   "metadata": {},
   "source": [
    "---"
   ]
  },
  {
   "cell_type": "markdown",
   "metadata": {},
   "source": [
    "## Selecting the Components of PCA Using Cross Validation"
   ]
  },
  {
   "cell_type": "code",
   "execution_count": 18,
   "metadata": {},
   "outputs": [
    {
     "name": "stdout",
     "output_type": "stream",
     "text": [
      "100%"
     ]
    }
   ],
   "source": [
    "regression_model = LinearRegression(fit_intercept=True)\n",
    "kf = KFold(n_splits=5)\n",
    "\n",
    "x_val_scores = []\n",
    "\n",
    "for n in range(1, 80, 5):\n",
    "    out = n * 1. / 80 * 100\n",
    "    sys.stdout.write(\"\\r%d%%\" % out)\n",
    "    sys.stdout.flush()\n",
    "    \n",
    "    pca = PCA(n_components=15)\n",
    "    pca.fit(X_train_full_poly)\n",
    "    \n",
    "    validation_R_sqs = []\n",
    "    for train_index, val_index in kf.split(X_train_pca):\n",
    "        X_train, X_val = X_train_full_poly[train_index], X_train_full_poly[val_index]\n",
    "        y_train, y_val = y_non_test[train_index], y_non_test[val_index]\n",
    "\n",
    "        X_train_pca = pca.transform(X_train)\n",
    "        X_val_pca = pca.transform(X_val)\n",
    "        \n",
    "        regression_model.fit(X_train_pca, y_train)\n",
    "        validation_R_sqs.append(regression_model.score(X_val_pca, y_val))\n",
    "        \n",
    "    x_val_scores.append(np.mean(validation_R_sqs))\n",
    "    \n",
    "sys.stdout.write(\"\\r%d%%\" % 100)"
   ]
  },
  {
   "cell_type": "code",
   "execution_count": 19,
   "metadata": {},
   "outputs": [
    {
     "data": {
      "image/png": "[encoded data removed]",
      "text/plain": [
       "<matplotlib.figure.Figure at 0x10fdd12b0>"
      ]
     },
     "metadata": {},
     "output_type": "display_data"
    }
   ],
   "source": [
    "fig, ax = plt.subplots(1, 1, figsize=(5, 5))\n",
    "\n",
    "ax.plot(range(1, 80, 5), x_val_scores, color='blue')\n",
    "\n",
    "ax.set_title('Log Cross Validation Score vs. Number of PCA Components')\n",
    "ax.set_xlabel('number of components')\n",
    "ax.set_ylabel('Cross Validation Score')\n",
    "ax.set_yscale('log')\n",
    "\n",
    "plt.show()"
   ]
  },
  {
   "cell_type": "code",
   "execution_count": 20,
   "metadata": {},
   "outputs": [
    {
     "name": "stdout",
     "output_type": "stream",
     "text": [
      "best regularization param is: 16\n",
      "the test R^2 for PC regression with n = 16 is: 0.42404700452151367\n"
     ]
    }
   ],
   "source": [
    "best_n = range(1, 80, 5)[np.argmax(x_val_scores)]\n",
    "\n",
    "pca = PCA(n_components=best_n)\n",
    "pca.fit(X_train_full_poly)\n",
    "X_train_pca = pca.transform(X_train_full_poly)\n",
    "X_test_pca = pca.transform(X_test_full_poly)\n",
    "\n",
    "regression_model.fit(X_train_pca, y_non_test)\n",
    "test_R_sq = regression_model.score(X_test_pca, y_test)\n",
    "\n",
    "print('best regularization param is:', best_n)\n",
    "print('the test R^2 for PC regression with n = {} is: {}'.format(best_n, test_R_sq))"
   ]
  },
  {
   "cell_type": "code",
   "execution_count": null,
   "metadata": {
    "collapsed": true
   },
   "outputs": [],
   "source": []
  }
 ],
 "metadata": {
  "anaconda-cloud": {},
  "kernelspec": {
   "display_name": "Python 3",
   "language": "python",
   "name": "python3"
  },
  "language_info": {
   "codemirror_mode": {
    "name": "ipython",
    "version": 3
   },
   "file_extension": ".py",
   "mimetype": "text/x-python",
   "name": "python",
   "nbconvert_exporter": "python",
   "pygments_lexer": "ipython3",
   "version": "3.7.3"
  }
 },
 "nbformat": 4,
 "nbformat_minor": 1
}
