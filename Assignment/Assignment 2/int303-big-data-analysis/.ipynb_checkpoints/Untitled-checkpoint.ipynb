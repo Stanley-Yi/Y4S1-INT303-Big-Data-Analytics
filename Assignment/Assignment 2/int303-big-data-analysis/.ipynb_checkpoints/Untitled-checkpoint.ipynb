{
 "cells": [
  {
   "cell_type": "code",
   "execution_count": 1,
   "metadata": {},
   "outputs": [],
   "source": [
    "import numpy as np # linear algebra\n",
    "import pandas as pd # data processing, CSV file I/O (e.g. pd.read_csv)\n",
    "import matplotlib.pyplot as plt\n",
    "import seaborn as sns\n",
    "import os\n",
    "from sklearn import preprocessing  \n",
    "\n",
    "pd.set_option('max_columns',500)\n",
    "%matplotlib inline"
   ]
  },
  {
   "cell_type": "code",
   "execution_count": 2,
   "metadata": {},
   "outputs": [
    {
     "name": "stdout",
     "output_type": "stream",
     "text": [
      "Requirement already satisfied: h2o in d:\\software\\anaconda\\anaconda1\\lib\\site-packages (3.34.0.3)\n",
      "Requirement already satisfied: tabulate in d:\\software\\anaconda\\anaconda1\\lib\\site-packages (from h2o) (0.8.9)\n",
      "Requirement already satisfied: requests in d:\\software\\anaconda\\anaconda1\\lib\\site-packages (from h2o) (2.25.1)\n",
      "Requirement already satisfied: future in d:\\software\\anaconda\\anaconda1\\lib\\site-packages (from h2o) (0.18.2)\n",
      "Requirement already satisfied: urllib3<1.27,>=1.21.1 in d:\\software\\anaconda\\anaconda1\\lib\\site-packages (from requests->h2o) (1.26.2)\n",
      "Requirement already satisfied: certifi>=2017.4.17 in d:\\software\\anaconda\\anaconda1\\lib\\site-packages (from requests->h2o) (2021.5.30)\n",
      "Requirement already satisfied: idna<3,>=2.5 in d:\\software\\anaconda\\anaconda1\\lib\\site-packages (from requests->h2o) (2.10)\n",
      "Requirement already satisfied: chardet<5,>=3.0.2 in d:\\software\\anaconda\\anaconda1\\lib\\site-packages (from requests->h2o) (4.0.0)\n"
     ]
    }
   ],
   "source": [
    "!pip install h2o"
   ]
  },
  {
   "cell_type": "code",
   "execution_count": 4,
   "metadata": {},
   "outputs": [
    {
     "name": "stdout",
     "output_type": "stream",
     "text": [
      "Checking whether there is an H2O instance running at http://localhost:54321 . connected.\n"
     ]
    },
    {
     "data": {
      "text/html": [
       "<div style=\"overflow:auto\"><table style=\"width:50%\"><tr><td>H2O_cluster_uptime:</td>\n",
       "<td>25 mins 09 secs</td></tr>\n",
       "<tr><td>H2O_cluster_timezone:</td>\n",
       "<td>Asia/Shanghai</td></tr>\n",
       "<tr><td>H2O_data_parsing_timezone:</td>\n",
       "<td>UTC</td></tr>\n",
       "<tr><td>H2O_cluster_version:</td>\n",
       "<td>3.34.0.3</td></tr>\n",
       "<tr><td>H2O_cluster_version_age:</td>\n",
       "<td>2 months and 10 days </td></tr>\n",
       "<tr><td>H2O_cluster_name:</td>\n",
       "<td>H2O_from_python_Stanley_8r1bou</td></tr>\n",
       "<tr><td>H2O_cluster_total_nodes:</td>\n",
       "<td>1</td></tr>\n",
       "<tr><td>H2O_cluster_free_memory:</td>\n",
       "<td>3.848 Gb</td></tr>\n",
       "<tr><td>H2O_cluster_total_cores:</td>\n",
       "<td>12</td></tr>\n",
       "<tr><td>H2O_cluster_allowed_cores:</td>\n",
       "<td>12</td></tr>\n",
       "<tr><td>H2O_cluster_status:</td>\n",
       "<td>locked, healthy</td></tr>\n",
       "<tr><td>H2O_connection_url:</td>\n",
       "<td>http://localhost:54321</td></tr>\n",
       "<tr><td>H2O_connection_proxy:</td>\n",
       "<td>{\"http\": null, \"https\": null}</td></tr>\n",
       "<tr><td>H2O_internal_security:</td>\n",
       "<td>False</td></tr>\n",
       "<tr><td>H2O_API_Extensions:</td>\n",
       "<td>Amazon S3, Algos, AutoML, Core V3, TargetEncoder, Core V4</td></tr>\n",
       "<tr><td>Python_version:</td>\n",
       "<td>3.8.3 final</td></tr></table></div>"
      ],
      "text/plain": [
       "--------------------------  ---------------------------------------------------------\n",
       "H2O_cluster_uptime:         25 mins 09 secs\n",
       "H2O_cluster_timezone:       Asia/Shanghai\n",
       "H2O_data_parsing_timezone:  UTC\n",
       "H2O_cluster_version:        3.34.0.3\n",
       "H2O_cluster_version_age:    2 months and 10 days\n",
       "H2O_cluster_name:           H2O_from_python_Stanley_8r1bou\n",
       "H2O_cluster_total_nodes:    1\n",
       "H2O_cluster_free_memory:    3.848 Gb\n",
       "H2O_cluster_total_cores:    12\n",
       "H2O_cluster_allowed_cores:  12\n",
       "H2O_cluster_status:         locked, healthy\n",
       "H2O_connection_url:         http://localhost:54321\n",
       "H2O_connection_proxy:       {\"http\": null, \"https\": null}\n",
       "H2O_internal_security:      False\n",
       "H2O_API_Extensions:         Amazon S3, Algos, AutoML, Core V3, TargetEncoder, Core V4\n",
       "Python_version:             3.8.3 final\n",
       "--------------------------  ---------------------------------------------------------"
      ]
     },
     "metadata": {},
     "output_type": "display_data"
    },
    {
     "name": "stdout",
     "output_type": "stream",
     "text": [
      "Parse progress: |████████████████████████████████████████████████████████████████| (done) 100%\n",
      "Parse progress: |████████████████████████████████████████████████████████████████| (done) 100%\n"
     ]
    },
    {
     "data": {
      "text/html": [
       "<table>\n",
       "<thead>\n",
       "<tr><th style=\"text-align: right;\">  Unnamed: 0</th><th>state_code  </th><th style=\"text-align: right;\">  latitude</th><th style=\"text-align: right;\">  longitude</th><th style=\"text-align: right;\">  zip_code</th><th>id     </th><th>city         </th><th>Unnamed: 6            </th><th>name                 </th><th>founded_at         </th><th>first_funding_at   </th><th>last_funding_at    </th><th style=\"text-align: right;\">  age_first_funding_year</th><th style=\"text-align: right;\">  age_last_funding_year</th><th style=\"text-align: right;\">  age_first_milestone_year</th><th style=\"text-align: right;\">  age_last_milestone_year</th><th style=\"text-align: right;\">  relationships</th><th style=\"text-align: right;\">  funding_rounds</th><th style=\"text-align: right;\">  funding_total_usd</th><th style=\"text-align: right;\">  milestones</th><th>state_code.1  </th><th style=\"text-align: right;\">  is_CA</th><th style=\"text-align: right;\">  is_NY</th><th style=\"text-align: right;\">  is_MA</th><th style=\"text-align: right;\">  is_TX</th><th style=\"text-align: right;\">  is_otherstate</th><th>category_code  </th><th style=\"text-align: right;\">  is_software</th><th style=\"text-align: right;\">  is_web</th><th style=\"text-align: right;\">  is_mobile</th><th style=\"text-align: right;\">  is_enterprise</th><th style=\"text-align: right;\">  is_advertising</th><th style=\"text-align: right;\">  is_gamesvideo</th><th style=\"text-align: right;\">  is_ecommerce</th><th style=\"text-align: right;\">  is_biotech</th><th style=\"text-align: right;\">  is_consulting</th><th style=\"text-align: right;\">  is_othercategory</th><th>object_id  </th><th style=\"text-align: right;\">  has_VC</th><th style=\"text-align: right;\">  has_angel</th><th style=\"text-align: right;\">  has_roundA</th><th style=\"text-align: right;\">  has_roundB</th><th style=\"text-align: right;\">  has_roundC</th><th style=\"text-align: right;\">  has_roundD</th><th style=\"text-align: right;\">  avg_participants</th><th style=\"text-align: right;\">  is_top500</th><th>status  </th></tr>\n",
       "</thead>\n",
       "<tbody>\n",
       "<tr><td style=\"text-align: right;\">        1005</td><td>CA          </td><td style=\"text-align: right;\">   42.3589</td><td style=\"text-align: right;\">   -71.0568</td><td style=\"text-align: right;\">     92101</td><td>c:6669 </td><td>San Diego    </td><td>                      </td><td>Bandsintown          </td><td>2007-01-01 00:00:00</td><td>2009-04-01 00:00:00</td><td>2010-01-01 00:00:00</td><td style=\"text-align: right;\">                  2.2493</td><td style=\"text-align: right;\">                 3.0027</td><td style=\"text-align: right;\">                    4.6685</td><td style=\"text-align: right;\">                   6.7041</td><td style=\"text-align: right;\">              3</td><td style=\"text-align: right;\">               3</td><td style=\"text-align: right;\">      375000       </td><td style=\"text-align: right;\">           3</td><td>CA            </td><td style=\"text-align: right;\">      1</td><td style=\"text-align: right;\">      0</td><td style=\"text-align: right;\">      0</td><td style=\"text-align: right;\">      0</td><td style=\"text-align: right;\">              0</td><td>music          </td><td style=\"text-align: right;\">            0</td><td style=\"text-align: right;\">       0</td><td style=\"text-align: right;\">          0</td><td style=\"text-align: right;\">              0</td><td style=\"text-align: right;\">               0</td><td style=\"text-align: right;\">              0</td><td style=\"text-align: right;\">             0</td><td style=\"text-align: right;\">           0</td><td style=\"text-align: right;\">              0</td><td style=\"text-align: right;\">                 1</td><td>c:6669     </td><td style=\"text-align: right;\">       0</td><td style=\"text-align: right;\">          1</td><td style=\"text-align: right;\">           0</td><td style=\"text-align: right;\">           0</td><td style=\"text-align: right;\">           0</td><td style=\"text-align: right;\">           0</td><td style=\"text-align: right;\">            1     </td><td style=\"text-align: right;\">          0</td><td>acquired</td></tr>\n",
       "<tr><td style=\"text-align: right;\">         204</td><td>CA          </td><td style=\"text-align: right;\">   37.2389</td><td style=\"text-align: right;\">  -121.974 </td><td style=\"text-align: right;\">     95032</td><td>c:16283</td><td>Los Gatos    </td><td>                      </td><td>TriCipher            </td><td>2000-01-01 00:00:00</td><td>2005-02-14 00:00:00</td><td>2009-12-28 00:00:00</td><td style=\"text-align: right;\">                  5.126 </td><td style=\"text-align: right;\">                 9.9973</td><td style=\"text-align: right;\">                    7.0055</td><td style=\"text-align: right;\">                   7.0055</td><td style=\"text-align: right;\">              9</td><td style=\"text-align: right;\">               4</td><td style=\"text-align: right;\">           4.01e+07</td><td style=\"text-align: right;\">           1</td><td>CA            </td><td style=\"text-align: right;\">      1</td><td style=\"text-align: right;\">      0</td><td style=\"text-align: right;\">      0</td><td style=\"text-align: right;\">      0</td><td style=\"text-align: right;\">              0</td><td>enterprise     </td><td style=\"text-align: right;\">            0</td><td style=\"text-align: right;\">       0</td><td style=\"text-align: right;\">          0</td><td style=\"text-align: right;\">              1</td><td style=\"text-align: right;\">               0</td><td style=\"text-align: right;\">              0</td><td style=\"text-align: right;\">             0</td><td style=\"text-align: right;\">           0</td><td style=\"text-align: right;\">              0</td><td style=\"text-align: right;\">                 0</td><td>c:16283    </td><td style=\"text-align: right;\">       1</td><td style=\"text-align: right;\">          0</td><td style=\"text-align: right;\">           0</td><td style=\"text-align: right;\">           1</td><td style=\"text-align: right;\">           1</td><td style=\"text-align: right;\">           1</td><td style=\"text-align: right;\">            4.75  </td><td style=\"text-align: right;\">          1</td><td>acquired</td></tr>\n",
       "<tr><td style=\"text-align: right;\">        1001</td><td>CA          </td><td style=\"text-align: right;\">   32.901 </td><td style=\"text-align: right;\">  -117.193 </td><td style=\"text-align: right;\">     92121</td><td>c:65620</td><td>San Diego    </td><td>San Diego CA 92121    </td><td>Plixi                </td><td>2009-03-18 00:00:00</td><td>2010-03-30 00:00:00</td><td>2010-03-30 00:00:00</td><td style=\"text-align: right;\">                  1.0329</td><td style=\"text-align: right;\">                 1.0329</td><td style=\"text-align: right;\">                    1.4575</td><td style=\"text-align: right;\">                   2.2055</td><td style=\"text-align: right;\">              5</td><td style=\"text-align: right;\">               1</td><td style=\"text-align: right;\">           2.6e+06 </td><td style=\"text-align: right;\">           2</td><td>CA            </td><td style=\"text-align: right;\">      1</td><td style=\"text-align: right;\">      0</td><td style=\"text-align: right;\">      0</td><td style=\"text-align: right;\">      0</td><td style=\"text-align: right;\">              0</td><td>web            </td><td style=\"text-align: right;\">            0</td><td style=\"text-align: right;\">       1</td><td style=\"text-align: right;\">          0</td><td style=\"text-align: right;\">              0</td><td style=\"text-align: right;\">               0</td><td style=\"text-align: right;\">              0</td><td style=\"text-align: right;\">             0</td><td style=\"text-align: right;\">           0</td><td style=\"text-align: right;\">              0</td><td style=\"text-align: right;\">                 0</td><td>c:65620    </td><td style=\"text-align: right;\">       0</td><td style=\"text-align: right;\">          0</td><td style=\"text-align: right;\">           1</td><td style=\"text-align: right;\">           0</td><td style=\"text-align: right;\">           0</td><td style=\"text-align: right;\">           0</td><td style=\"text-align: right;\">            4     </td><td style=\"text-align: right;\">          1</td><td>acquired</td></tr>\n",
       "<tr><td style=\"text-align: right;\">         738</td><td>CA          </td><td style=\"text-align: right;\">   37.3203</td><td style=\"text-align: right;\">  -122.05  </td><td style=\"text-align: right;\">     95014</td><td>c:42668</td><td>Cupertino    </td><td>Cupertino CA 95014    </td><td>Solidcore Systems    </td><td>2002-01-01 00:00:00</td><td>2005-02-17 00:00:00</td><td>2007-04-25 00:00:00</td><td style=\"text-align: right;\">                  3.1315</td><td style=\"text-align: right;\">                 5.3151</td><td style=\"text-align: right;\">                    6.0027</td><td style=\"text-align: right;\">                   6.0027</td><td style=\"text-align: right;\">              5</td><td style=\"text-align: right;\">               3</td><td style=\"text-align: right;\">           4e+07   </td><td style=\"text-align: right;\">           1</td><td>CA            </td><td style=\"text-align: right;\">      1</td><td style=\"text-align: right;\">      0</td><td style=\"text-align: right;\">      0</td><td style=\"text-align: right;\">      0</td><td style=\"text-align: right;\">              0</td><td>software       </td><td style=\"text-align: right;\">            1</td><td style=\"text-align: right;\">       0</td><td style=\"text-align: right;\">          0</td><td style=\"text-align: right;\">              0</td><td style=\"text-align: right;\">               0</td><td style=\"text-align: right;\">              0</td><td style=\"text-align: right;\">             0</td><td style=\"text-align: right;\">           0</td><td style=\"text-align: right;\">              0</td><td style=\"text-align: right;\">                 0</td><td>c:42668    </td><td style=\"text-align: right;\">       0</td><td style=\"text-align: right;\">          0</td><td style=\"text-align: right;\">           0</td><td style=\"text-align: right;\">           1</td><td style=\"text-align: right;\">           1</td><td style=\"text-align: right;\">           1</td><td style=\"text-align: right;\">            3.3333</td><td style=\"text-align: right;\">          1</td><td>acquired</td></tr>\n",
       "<tr><td style=\"text-align: right;\">        1002</td><td>CA          </td><td style=\"text-align: right;\">   37.7793</td><td style=\"text-align: right;\">  -122.419 </td><td style=\"text-align: right;\">     94105</td><td>c:65806</td><td>San Francisco</td><td>San Francisco CA 94105</td><td>Inhale Digital       </td><td>2010-08-01 00:00:00</td><td>2010-08-01 00:00:00</td><td>2012-04-01 00:00:00</td><td style=\"text-align: right;\">                  0     </td><td style=\"text-align: right;\">                 1.6685</td><td style=\"text-align: right;\">                    0.0384</td><td style=\"text-align: right;\">                   0.0384</td><td style=\"text-align: right;\">              2</td><td style=\"text-align: right;\">               2</td><td style=\"text-align: right;\">           1.3e+06 </td><td style=\"text-align: right;\">           1</td><td>CA            </td><td style=\"text-align: right;\">      1</td><td style=\"text-align: right;\">      0</td><td style=\"text-align: right;\">      0</td><td style=\"text-align: right;\">      0</td><td style=\"text-align: right;\">              0</td><td>games_video    </td><td style=\"text-align: right;\">            0</td><td style=\"text-align: right;\">       0</td><td style=\"text-align: right;\">          0</td><td style=\"text-align: right;\">              0</td><td style=\"text-align: right;\">               0</td><td style=\"text-align: right;\">              1</td><td style=\"text-align: right;\">             0</td><td style=\"text-align: right;\">           0</td><td style=\"text-align: right;\">              0</td><td style=\"text-align: right;\">                 0</td><td>c:65806    </td><td style=\"text-align: right;\">       1</td><td style=\"text-align: right;\">          1</td><td style=\"text-align: right;\">           0</td><td style=\"text-align: right;\">           0</td><td style=\"text-align: right;\">           0</td><td style=\"text-align: right;\">           0</td><td style=\"text-align: right;\">            1     </td><td style=\"text-align: right;\">          1</td><td>closed  </td></tr>\n",
       "<tr><td style=\"text-align: right;\">         379</td><td>CA          </td><td style=\"text-align: right;\">   37.4069</td><td style=\"text-align: right;\">  -122.09  </td><td style=\"text-align: right;\">     94043</td><td>c:22898</td><td>Mountain View</td><td>Mountain View CA 94043</td><td>Matisse Networks     </td><td>2002-01-01 00:00:00</td><td>2006-07-18 00:00:00</td><td>2006-07-18 00:00:00</td><td style=\"text-align: right;\">                  4.5452</td><td style=\"text-align: right;\">                 4.5452</td><td style=\"text-align: right;\">                    5.0027</td><td style=\"text-align: right;\">                   5.0027</td><td style=\"text-align: right;\">              3</td><td style=\"text-align: right;\">               1</td><td style=\"text-align: right;\">           7.5e+06 </td><td style=\"text-align: right;\">           1</td><td>CA            </td><td style=\"text-align: right;\">      1</td><td style=\"text-align: right;\">      0</td><td style=\"text-align: right;\">      0</td><td style=\"text-align: right;\">      0</td><td style=\"text-align: right;\">              0</td><td>network_hosting</td><td style=\"text-align: right;\">            0</td><td style=\"text-align: right;\">       0</td><td style=\"text-align: right;\">          0</td><td style=\"text-align: right;\">              0</td><td style=\"text-align: right;\">               0</td><td style=\"text-align: right;\">              0</td><td style=\"text-align: right;\">             0</td><td style=\"text-align: right;\">           0</td><td style=\"text-align: right;\">              0</td><td style=\"text-align: right;\">                 1</td><td>c:22898    </td><td style=\"text-align: right;\">       0</td><td style=\"text-align: right;\">          0</td><td style=\"text-align: right;\">           0</td><td style=\"text-align: right;\">           1</td><td style=\"text-align: right;\">           0</td><td style=\"text-align: right;\">           0</td><td style=\"text-align: right;\">            3     </td><td style=\"text-align: right;\">          1</td><td>closed  </td></tr>\n",
       "<tr><td style=\"text-align: right;\">         195</td><td>CA          </td><td style=\"text-align: right;\">   37.3916</td><td style=\"text-align: right;\">  -122.07  </td><td style=\"text-align: right;\">     94041</td><td>c:16191</td><td>Mountain View</td><td>                      </td><td>RingCube Technologies</td><td>2005-01-01 00:00:00</td><td>2006-09-21 00:00:00</td><td>2010-03-18 00:00:00</td><td style=\"text-align: right;\">                  1.7205</td><td style=\"text-align: right;\">                 5.211 </td><td style=\"text-align: right;\">                    3     </td><td style=\"text-align: right;\">                   6.6082</td><td style=\"text-align: right;\">              6</td><td style=\"text-align: right;\">               3</td><td style=\"text-align: right;\">           2.6e+07 </td><td style=\"text-align: right;\">           2</td><td>CA            </td><td style=\"text-align: right;\">      1</td><td style=\"text-align: right;\">      0</td><td style=\"text-align: right;\">      0</td><td style=\"text-align: right;\">      0</td><td style=\"text-align: right;\">              0</td><td>software       </td><td style=\"text-align: right;\">            1</td><td style=\"text-align: right;\">       0</td><td style=\"text-align: right;\">          0</td><td style=\"text-align: right;\">              0</td><td style=\"text-align: right;\">               0</td><td style=\"text-align: right;\">              0</td><td style=\"text-align: right;\">             0</td><td style=\"text-align: right;\">           0</td><td style=\"text-align: right;\">              0</td><td style=\"text-align: right;\">                 0</td><td>c:16191    </td><td style=\"text-align: right;\">       1</td><td style=\"text-align: right;\">          0</td><td style=\"text-align: right;\">           1</td><td style=\"text-align: right;\">           1</td><td style=\"text-align: right;\">           0</td><td style=\"text-align: right;\">           0</td><td style=\"text-align: right;\">            1.6667</td><td style=\"text-align: right;\">          1</td><td>acquired</td></tr>\n",
       "<tr><td style=\"text-align: right;\">         875</td><td>CA          </td><td style=\"text-align: right;\">   38.0571</td><td style=\"text-align: right;\">  -122.514 </td><td style=\"text-align: right;\">     94901</td><td>c:5192 </td><td>San Rafael   </td><td>                      </td><td>ClairMail            </td><td>2004-01-01 00:00:00</td><td>2005-08-24 00:00:00</td><td>2010-10-04 00:00:00</td><td style=\"text-align: right;\">                  1.6466</td><td style=\"text-align: right;\">                 6.7616</td><td style=\"text-align: right;\">                    5.6055</td><td style=\"text-align: right;\">                   7.3616</td><td style=\"text-align: right;\">             25</td><td style=\"text-align: right;\">               3</td><td style=\"text-align: right;\">           3.41e+07</td><td style=\"text-align: right;\">           3</td><td>CA            </td><td style=\"text-align: right;\">      1</td><td style=\"text-align: right;\">      0</td><td style=\"text-align: right;\">      0</td><td style=\"text-align: right;\">      0</td><td style=\"text-align: right;\">              0</td><td>finance        </td><td style=\"text-align: right;\">            0</td><td style=\"text-align: right;\">       0</td><td style=\"text-align: right;\">          0</td><td style=\"text-align: right;\">              0</td><td style=\"text-align: right;\">               0</td><td style=\"text-align: right;\">              0</td><td style=\"text-align: right;\">             0</td><td style=\"text-align: right;\">           0</td><td style=\"text-align: right;\">              0</td><td style=\"text-align: right;\">                 1</td><td>c:5192     </td><td style=\"text-align: right;\">       0</td><td style=\"text-align: right;\">          0</td><td style=\"text-align: right;\">           1</td><td style=\"text-align: right;\">           1</td><td style=\"text-align: right;\">           0</td><td style=\"text-align: right;\">           1</td><td style=\"text-align: right;\">            3.5   </td><td style=\"text-align: right;\">          1</td><td>acquired</td></tr>\n",
       "<tr><td style=\"text-align: right;\">          16</td><td>MA          </td><td style=\"text-align: right;\">   42.7122</td><td style=\"text-align: right;\">   -73.2036</td><td style=\"text-align: right;\">      1267</td><td>c:1043 </td><td>Williamstown </td><td>Williamstown MA 1267  </td><td>VoodooVox            </td><td>2002-01-01 00:00:00</td><td>2005-08-02 00:00:00</td><td>2013-02-08 00:00:00</td><td style=\"text-align: right;\">                  3.5863</td><td style=\"text-align: right;\">                11.1123</td><td style=\"text-align: right;\">                    8.0055</td><td style=\"text-align: right;\">                   9.9945</td><td style=\"text-align: right;\">             13</td><td style=\"text-align: right;\">               3</td><td style=\"text-align: right;\">           9.65e+06</td><td style=\"text-align: right;\">           4</td><td>MA            </td><td style=\"text-align: right;\">      0</td><td style=\"text-align: right;\">      0</td><td style=\"text-align: right;\">      1</td><td style=\"text-align: right;\">      0</td><td style=\"text-align: right;\">              0</td><td>mobile         </td><td style=\"text-align: right;\">            0</td><td style=\"text-align: right;\">       0</td><td style=\"text-align: right;\">          1</td><td style=\"text-align: right;\">              0</td><td style=\"text-align: right;\">               0</td><td style=\"text-align: right;\">              0</td><td style=\"text-align: right;\">             0</td><td style=\"text-align: right;\">           0</td><td style=\"text-align: right;\">              0</td><td style=\"text-align: right;\">                 0</td><td>c:1043     </td><td style=\"text-align: right;\">       1</td><td style=\"text-align: right;\">          0</td><td style=\"text-align: right;\">           1</td><td style=\"text-align: right;\">           0</td><td style=\"text-align: right;\">           0</td><td style=\"text-align: right;\">           1</td><td style=\"text-align: right;\">            4     </td><td style=\"text-align: right;\">          1</td><td>acquired</td></tr>\n",
       "<tr><td style=\"text-align: right;\">         846</td><td>CA          </td><td style=\"text-align: right;\">   37.4272</td><td style=\"text-align: right;\">  -122.146 </td><td style=\"text-align: right;\">     94306</td><td>c:498  </td><td>Palo Alto    </td><td>                      </td><td>Doostang             </td><td>2005-06-01 00:00:00</td><td>2007-02-01 00:00:00</td><td>2010-02-05 00:00:00</td><td style=\"text-align: right;\">                  1.6712</td><td style=\"text-align: right;\">                 4.6849</td><td style=\"text-align: right;\">                    2.9178</td><td style=\"text-align: right;\">                   6.1151</td><td style=\"text-align: right;\">             14</td><td style=\"text-align: right;\">               3</td><td style=\"text-align: right;\">           5.75e+06</td><td style=\"text-align: right;\">           4</td><td>CA            </td><td style=\"text-align: right;\">      1</td><td style=\"text-align: right;\">      0</td><td style=\"text-align: right;\">      0</td><td style=\"text-align: right;\">      0</td><td style=\"text-align: right;\">              0</td><td>web            </td><td style=\"text-align: right;\">            0</td><td style=\"text-align: right;\">       1</td><td style=\"text-align: right;\">          0</td><td style=\"text-align: right;\">              0</td><td style=\"text-align: right;\">               0</td><td style=\"text-align: right;\">              0</td><td style=\"text-align: right;\">             0</td><td style=\"text-align: right;\">           0</td><td style=\"text-align: right;\">              0</td><td style=\"text-align: right;\">                 0</td><td>c:498      </td><td style=\"text-align: right;\">       1</td><td style=\"text-align: right;\">          1</td><td style=\"text-align: right;\">           1</td><td style=\"text-align: right;\">           0</td><td style=\"text-align: right;\">           0</td><td style=\"text-align: right;\">           0</td><td style=\"text-align: right;\">            1     </td><td style=\"text-align: right;\">          1</td><td>acquired</td></tr>\n",
       "</tbody>\n",
       "</table>"
      ]
     },
     "metadata": {},
     "output_type": "display_data"
    },
    {
     "name": "stdout",
     "output_type": "stream",
     "text": [
      "\n",
      "AutoML progress: |█\n",
      "16:51:12.818: AutoML: XGBoost is not available; skipping it.\n",
      "16:51:12.819: Step 'best_of_family_xgboost' not defined in provider 'StackedEnsemble': skipping it.\n",
      "16:51:12.819: Step 'all_xgboost' not defined in provider 'StackedEnsemble': skipping it.\n",
      "\n",
      "██████████████████████████████████████████████████████████████| (done) 100%\n"
     ]
    },
    {
     "data": {
      "text/html": [
       "<table>\n",
       "<thead>\n",
       "<tr><th>model_id                                               </th><th style=\"text-align: right;\">     auc</th><th style=\"text-align: right;\">  logloss</th><th style=\"text-align: right;\">   aucpr</th><th style=\"text-align: right;\">  mean_per_class_error</th><th style=\"text-align: right;\">    rmse</th><th style=\"text-align: right;\">     mse</th></tr>\n",
       "</thead>\n",
       "<tbody>\n",
       "<tr><td>StackedEnsemble_AllModels_3_AutoML_2_20211217_165112   </td><td style=\"text-align: right;\">0.830311</td><td style=\"text-align: right;\"> 0.469065</td><td style=\"text-align: right;\">0.784875</td><td style=\"text-align: right;\">              0.244449</td><td style=\"text-align: right;\">0.389492</td><td style=\"text-align: right;\">0.151704</td></tr>\n",
       "<tr><td>StackedEnsemble_BestOfFamily_3_AutoML_2_20211217_165112</td><td style=\"text-align: right;\">0.83023 </td><td style=\"text-align: right;\"> 0.470021</td><td style=\"text-align: right;\">0.785777</td><td style=\"text-align: right;\">              0.247324</td><td style=\"text-align: right;\">0.389703</td><td style=\"text-align: right;\">0.151869</td></tr>\n",
       "<tr><td>StackedEnsemble_BestOfFamily_7_AutoML_2_20211217_165112</td><td style=\"text-align: right;\">0.82959 </td><td style=\"text-align: right;\"> 0.46945 </td><td style=\"text-align: right;\">0.78243 </td><td style=\"text-align: right;\">              0.243417</td><td style=\"text-align: right;\">0.389704</td><td style=\"text-align: right;\">0.151869</td></tr>\n",
       "<tr><td>StackedEnsemble_BestOfFamily_5_AutoML_2_20211217_165112</td><td style=\"text-align: right;\">0.829303</td><td style=\"text-align: right;\"> 0.469731</td><td style=\"text-align: right;\">0.781799</td><td style=\"text-align: right;\">              0.24198 </td><td style=\"text-align: right;\">0.38972 </td><td style=\"text-align: right;\">0.151881</td></tr>\n",
       "<tr><td>StackedEnsemble_AllModels_4_AutoML_2_20211217_165112   </td><td style=\"text-align: right;\">0.829025</td><td style=\"text-align: right;\"> 0.469488</td><td style=\"text-align: right;\">0.784587</td><td style=\"text-align: right;\">              0.241554</td><td style=\"text-align: right;\">0.390106</td><td style=\"text-align: right;\">0.152183</td></tr>\n",
       "<tr><td>StackedEnsemble_BestOfFamily_4_AutoML_2_20211217_165112</td><td style=\"text-align: right;\">0.826613</td><td style=\"text-align: right;\"> 0.475481</td><td style=\"text-align: right;\">0.776993</td><td style=\"text-align: right;\">              0.24281 </td><td style=\"text-align: right;\">0.392052</td><td style=\"text-align: right;\">0.153705</td></tr>\n",
       "<tr><td>StackedEnsemble_AllModels_2_AutoML_2_20211217_165112   </td><td style=\"text-align: right;\">0.825903</td><td style=\"text-align: right;\"> 0.475549</td><td style=\"text-align: right;\">0.774396</td><td style=\"text-align: right;\">              0.244449</td><td style=\"text-align: right;\">0.391962</td><td style=\"text-align: right;\">0.153634</td></tr>\n",
       "<tr><td>StackedEnsemble_AllModels_6_AutoML_2_20211217_165112   </td><td style=\"text-align: right;\">0.825475</td><td style=\"text-align: right;\"> 0.474472</td><td style=\"text-align: right;\">0.778921</td><td style=\"text-align: right;\">              0.244428</td><td style=\"text-align: right;\">0.392072</td><td style=\"text-align: right;\">0.153721</td></tr>\n",
       "<tr><td>XRT_1_AutoML_2_20211217_165112                         </td><td style=\"text-align: right;\">0.822302</td><td style=\"text-align: right;\"> 0.482952</td><td style=\"text-align: right;\">0.77791 </td><td style=\"text-align: right;\">              0.242991</td><td style=\"text-align: right;\">0.394475</td><td style=\"text-align: right;\">0.15561 </td></tr>\n",
       "<tr><td>StackedEnsemble_BestOfFamily_2_AutoML_2_20211217_165112</td><td style=\"text-align: right;\">0.81579 </td><td style=\"text-align: right;\"> 0.49252 </td><td style=\"text-align: right;\">0.756606</td><td style=\"text-align: right;\">              0.259412</td><td style=\"text-align: right;\">0.400831</td><td style=\"text-align: right;\">0.160665</td></tr>\n",
       "<tr><td>StackedEnsemble_AllModels_1_AutoML_2_20211217_165112   </td><td style=\"text-align: right;\">0.813275</td><td style=\"text-align: right;\"> 0.494492</td><td style=\"text-align: right;\">0.753255</td><td style=\"text-align: right;\">              0.261163</td><td style=\"text-align: right;\">0.401842</td><td style=\"text-align: right;\">0.161477</td></tr>\n",
       "<tr><td>DRF_1_AutoML_2_20211217_165112                         </td><td style=\"text-align: right;\">0.805163</td><td style=\"text-align: right;\"> 0.508142</td><td style=\"text-align: right;\">0.739787</td><td style=\"text-align: right;\">              0.264031</td><td style=\"text-align: right;\">0.407349</td><td style=\"text-align: right;\">0.165933</td></tr>\n",
       "<tr><td>GBM_grid_1_AutoML_2_20211217_165112_model_14           </td><td style=\"text-align: right;\">0.800251</td><td style=\"text-align: right;\"> 0.508374</td><td style=\"text-align: right;\">0.749798</td><td style=\"text-align: right;\">              0.270594</td><td style=\"text-align: right;\">0.4065  </td><td style=\"text-align: right;\">0.165242</td></tr>\n",
       "<tr><td>GBM_grid_1_AutoML_2_20211217_165112_model_8            </td><td style=\"text-align: right;\">0.797974</td><td style=\"text-align: right;\"> 0.535603</td><td style=\"text-align: right;\">0.712318</td><td style=\"text-align: right;\">              0.258485</td><td style=\"text-align: right;\">0.416876</td><td style=\"text-align: right;\">0.173785</td></tr>\n",
       "<tr><td>GBM_grid_1_AutoML_2_20211217_165112_model_11           </td><td style=\"text-align: right;\">0.796148</td><td style=\"text-align: right;\"> 0.516644</td><td style=\"text-align: right;\">0.729437</td><td style=\"text-align: right;\">              0.262956</td><td style=\"text-align: right;\">0.41162 </td><td style=\"text-align: right;\">0.169431</td></tr>\n",
       "<tr><td>GBM_grid_1_AutoML_2_20211217_165112_model_15           </td><td style=\"text-align: right;\">0.794886</td><td style=\"text-align: right;\"> 0.538045</td><td style=\"text-align: right;\">0.728536</td><td style=\"text-align: right;\">              0.262594</td><td style=\"text-align: right;\">0.418646</td><td style=\"text-align: right;\">0.175264</td></tr>\n",
       "<tr><td>DeepLearning_grid_2_AutoML_2_20211217_165112_model_6   </td><td style=\"text-align: right;\">0.791209</td><td style=\"text-align: right;\"> 0.606187</td><td style=\"text-align: right;\">0.70741 </td><td style=\"text-align: right;\">              0.260689</td><td style=\"text-align: right;\">0.430633</td><td style=\"text-align: right;\">0.185445</td></tr>\n",
       "<tr><td>DeepLearning_1_AutoML_2_20211217_165112                </td><td style=\"text-align: right;\">0.790692</td><td style=\"text-align: right;\"> 0.553847</td><td style=\"text-align: right;\">0.695885</td><td style=\"text-align: right;\">              0.287398</td><td style=\"text-align: right;\">0.418364</td><td style=\"text-align: right;\">0.175028</td></tr>\n",
       "<tr><td>GBM_grid_1_AutoML_2_20211217_165112_model_3            </td><td style=\"text-align: right;\">0.79065 </td><td style=\"text-align: right;\"> 0.528158</td><td style=\"text-align: right;\">0.723646</td><td style=\"text-align: right;\">              0.262531</td><td style=\"text-align: right;\">0.415621</td><td style=\"text-align: right;\">0.172741</td></tr>\n",
       "<tr><td>GBM_grid_1_AutoML_2_20211217_165112_model_9            </td><td style=\"text-align: right;\">0.789941</td><td style=\"text-align: right;\"> 0.527634</td><td style=\"text-align: right;\">0.710615</td><td style=\"text-align: right;\">              0.28479 </td><td style=\"text-align: right;\">0.418159</td><td style=\"text-align: right;\">0.174857</td></tr>\n",
       "<tr><td>StackedEnsemble_BestOfFamily_1_AutoML_2_20211217_165112</td><td style=\"text-align: right;\">0.789376</td><td style=\"text-align: right;\"> 0.525213</td><td style=\"text-align: right;\">0.709748</td><td style=\"text-align: right;\">              0.270456</td><td style=\"text-align: right;\">0.414443</td><td style=\"text-align: right;\">0.171763</td></tr>\n",
       "<tr><td>GLM_1_AutoML_2_20211217_165112                         </td><td style=\"text-align: right;\">0.78828 </td><td style=\"text-align: right;\"> 0.532073</td><td style=\"text-align: right;\">0.685475</td><td style=\"text-align: right;\">              0.270483</td><td style=\"text-align: right;\">0.419046</td><td style=\"text-align: right;\">0.175599</td></tr>\n",
       "<tr><td>StackedEnsemble_BestOfFamily_6_AutoML_2_20211217_165112</td><td style=\"text-align: right;\">0.788232</td><td style=\"text-align: right;\"> 0.518177</td><td style=\"text-align: right;\">0.753254</td><td style=\"text-align: right;\">              0.263249</td><td style=\"text-align: right;\">0.406591</td><td style=\"text-align: right;\">0.165316</td></tr>\n",
       "<tr><td>DeepLearning_grid_2_AutoML_2_20211217_165112_model_1   </td><td style=\"text-align: right;\">0.787392</td><td style=\"text-align: right;\"> 0.649628</td><td style=\"text-align: right;\">0.707536</td><td style=\"text-align: right;\">              0.275129</td><td style=\"text-align: right;\">0.436641</td><td style=\"text-align: right;\">0.190656</td></tr>\n",
       "<tr><td>DeepLearning_grid_1_AutoML_2_20211217_165112_model_8   </td><td style=\"text-align: right;\">0.787136</td><td style=\"text-align: right;\"> 0.636287</td><td style=\"text-align: right;\">0.703082</td><td style=\"text-align: right;\">              0.282698</td><td style=\"text-align: right;\">0.436958</td><td style=\"text-align: right;\">0.190932</td></tr>\n",
       "<tr><td>StackedEnsemble_AllModels_5_AutoML_2_20211217_165112   </td><td style=\"text-align: right;\">0.785044</td><td style=\"text-align: right;\"> 0.532627</td><td style=\"text-align: right;\">0.746628</td><td style=\"text-align: right;\">              0.263494</td><td style=\"text-align: right;\">0.411289</td><td style=\"text-align: right;\">0.169159</td></tr>\n",
       "<tr><td>DeepLearning_grid_2_AutoML_2_20211217_165112_model_7   </td><td style=\"text-align: right;\">0.780298</td><td style=\"text-align: right;\"> 0.6413  </td><td style=\"text-align: right;\">0.657446</td><td style=\"text-align: right;\">              0.275241</td><td style=\"text-align: right;\">0.436276</td><td style=\"text-align: right;\">0.190337</td></tr>\n",
       "<tr><td>DeepLearning_grid_1_AutoML_2_20211217_165112_model_7   </td><td style=\"text-align: right;\">0.778903</td><td style=\"text-align: right;\"> 0.648094</td><td style=\"text-align: right;\">0.670462</td><td style=\"text-align: right;\">              0.282921</td><td style=\"text-align: right;\">0.439679</td><td style=\"text-align: right;\">0.193318</td></tr>\n",
       "<tr><td>DeepLearning_grid_1_AutoML_2_20211217_165112_model_1   </td><td style=\"text-align: right;\">0.778559</td><td style=\"text-align: right;\"> 0.70985 </td><td style=\"text-align: right;\">0.676745</td><td style=\"text-align: right;\">              0.285844</td><td style=\"text-align: right;\">0.440161</td><td style=\"text-align: right;\">0.193742</td></tr>\n",
       "<tr><td>DeepLearning_grid_3_AutoML_2_20211217_165112_model_6   </td><td style=\"text-align: right;\">0.776285</td><td style=\"text-align: right;\"> 0.581553</td><td style=\"text-align: right;\">0.680043</td><td style=\"text-align: right;\">              0.289011</td><td style=\"text-align: right;\">0.429716</td><td style=\"text-align: right;\">0.184656</td></tr>\n",
       "<tr><td>DeepLearning_grid_2_AutoML_2_20211217_165112_model_2   </td><td style=\"text-align: right;\">0.774435</td><td style=\"text-align: right;\"> 0.620824</td><td style=\"text-align: right;\">0.686305</td><td style=\"text-align: right;\">              0.27944 </td><td style=\"text-align: right;\">0.439759</td><td style=\"text-align: right;\">0.193388</td></tr>\n",
       "<tr><td>DeepLearning_grid_3_AutoML_2_20211217_165112_model_8   </td><td style=\"text-align: right;\">0.771295</td><td style=\"text-align: right;\"> 0.641505</td><td style=\"text-align: right;\">0.674226</td><td style=\"text-align: right;\">              0.286918</td><td style=\"text-align: right;\">0.442495</td><td style=\"text-align: right;\">0.195802</td></tr>\n",
       "<tr><td>DeepLearning_grid_2_AutoML_2_20211217_165112_model_8   </td><td style=\"text-align: right;\">0.76952 </td><td style=\"text-align: right;\"> 0.678046</td><td style=\"text-align: right;\">0.654318</td><td style=\"text-align: right;\">              0.293796</td><td style=\"text-align: right;\">0.45026 </td><td style=\"text-align: right;\">0.202734</td></tr>\n",
       "<tr><td>GBM_grid_1_AutoML_2_20211217_165112_model_1            </td><td style=\"text-align: right;\">0.768916</td><td style=\"text-align: right;\"> 0.554543</td><td style=\"text-align: right;\">0.683325</td><td style=\"text-align: right;\">              0.286137</td><td style=\"text-align: right;\">0.430518</td><td style=\"text-align: right;\">0.185345</td></tr>\n",
       "<tr><td>DeepLearning_grid_1_AutoML_2_20211217_165112_model_6   </td><td style=\"text-align: right;\">0.767781</td><td style=\"text-align: right;\"> 0.719412</td><td style=\"text-align: right;\">0.652485</td><td style=\"text-align: right;\">              0.273601</td><td style=\"text-align: right;\">0.449023</td><td style=\"text-align: right;\">0.201622</td></tr>\n",
       "<tr><td>GBM_grid_1_AutoML_2_20211217_165112_model_17           </td><td style=\"text-align: right;\">0.767575</td><td style=\"text-align: right;\"> 0.567586</td><td style=\"text-align: right;\">0.646745</td><td style=\"text-align: right;\">              0.273894</td><td style=\"text-align: right;\">0.436597</td><td style=\"text-align: right;\">0.190617</td></tr>\n",
       "<tr><td>DeepLearning_grid_1_AutoML_2_20211217_165112_model_4   </td><td style=\"text-align: right;\">0.762295</td><td style=\"text-align: right;\"> 0.776314</td><td style=\"text-align: right;\">0.662998</td><td style=\"text-align: right;\">              0.299789</td><td style=\"text-align: right;\">0.454821</td><td style=\"text-align: right;\">0.206863</td></tr>\n",
       "<tr><td>GBM_grid_1_AutoML_2_20211217_165112_model_13           </td><td style=\"text-align: right;\">0.761332</td><td style=\"text-align: right;\"> 0.587097</td><td style=\"text-align: right;\">0.669564</td><td style=\"text-align: right;\">              0.29395 </td><td style=\"text-align: right;\">0.440203</td><td style=\"text-align: right;\">0.193778</td></tr>\n",
       "<tr><td>GBM_grid_1_AutoML_2_20211217_165112_model_10           </td><td style=\"text-align: right;\">0.76081 </td><td style=\"text-align: right;\"> 0.558838</td><td style=\"text-align: right;\">0.677529</td><td style=\"text-align: right;\">              0.305809</td><td style=\"text-align: right;\">0.43324 </td><td style=\"text-align: right;\">0.187697</td></tr>\n",
       "<tr><td>GBM_grid_1_AutoML_2_20211217_165112_model_7            </td><td style=\"text-align: right;\">0.758724</td><td style=\"text-align: right;\"> 0.563535</td><td style=\"text-align: right;\">0.670997</td><td style=\"text-align: right;\">              0.278722</td><td style=\"text-align: right;\">0.435591</td><td style=\"text-align: right;\">0.18974 </td></tr>\n",
       "<tr><td>GBM_grid_1_AutoML_2_20211217_165112_model_6            </td><td style=\"text-align: right;\">0.758108</td><td style=\"text-align: right;\"> 0.552974</td><td style=\"text-align: right;\">0.673959</td><td style=\"text-align: right;\">              0.312303</td><td style=\"text-align: right;\">0.430402</td><td style=\"text-align: right;\">0.185246</td></tr>\n",
       "<tr><td>GBM_grid_1_AutoML_2_20211217_165112_model_4            </td><td style=\"text-align: right;\">0.756997</td><td style=\"text-align: right;\"> 0.562052</td><td style=\"text-align: right;\">0.665635</td><td style=\"text-align: right;\">              0.29907 </td><td style=\"text-align: right;\">0.434696</td><td style=\"text-align: right;\">0.18896 </td></tr>\n",
       "<tr><td>DeepLearning_grid_1_AutoML_2_20211217_165112_model_2   </td><td style=\"text-align: right;\">0.756251</td><td style=\"text-align: right;\"> 0.682408</td><td style=\"text-align: right;\">0.659901</td><td style=\"text-align: right;\">              0.29305 </td><td style=\"text-align: right;\">0.442701</td><td style=\"text-align: right;\">0.195984</td></tr>\n",
       "<tr><td>DeepLearning_grid_2_AutoML_2_20211217_165112_model_3   </td><td style=\"text-align: right;\">0.753796</td><td style=\"text-align: right;\"> 0.744158</td><td style=\"text-align: right;\">0.658044</td><td style=\"text-align: right;\">              0.300598</td><td style=\"text-align: right;\">0.454049</td><td style=\"text-align: right;\">0.206161</td></tr>\n",
       "<tr><td>GBM_grid_1_AutoML_2_20211217_165112_model_2            </td><td style=\"text-align: right;\">0.750636</td><td style=\"text-align: right;\"> 0.587289</td><td style=\"text-align: right;\">0.614776</td><td style=\"text-align: right;\">              0.296175</td><td style=\"text-align: right;\">0.445855</td><td style=\"text-align: right;\">0.198787</td></tr>\n",
       "<tr><td>DeepLearning_grid_3_AutoML_2_20211217_165112_model_2   </td><td style=\"text-align: right;\">0.750581</td><td style=\"text-align: right;\"> 0.585744</td><td style=\"text-align: right;\">0.624321</td><td style=\"text-align: right;\">              0.30435 </td><td style=\"text-align: right;\">0.441398</td><td style=\"text-align: right;\">0.194832</td></tr>\n",
       "<tr><td>DeepLearning_grid_2_AutoML_2_20211217_165112_model_5   </td><td style=\"text-align: right;\">0.750125</td><td style=\"text-align: right;\"> 0.582082</td><td style=\"text-align: right;\">0.656744</td><td style=\"text-align: right;\">              0.320074</td><td style=\"text-align: right;\">0.437068</td><td style=\"text-align: right;\">0.191029</td></tr>\n",
       "<tr><td>DeepLearning_grid_3_AutoML_2_20211217_165112_model_5   </td><td style=\"text-align: right;\">0.747894</td><td style=\"text-align: right;\"> 0.575137</td><td style=\"text-align: right;\">0.668326</td><td style=\"text-align: right;\">              0.300193</td><td style=\"text-align: right;\">0.433366</td><td style=\"text-align: right;\">0.187806</td></tr>\n",
       "<tr><td>GBM_5_AutoML_2_20211217_165112                         </td><td style=\"text-align: right;\">0.747082</td><td style=\"text-align: right;\"> 0.622841</td><td style=\"text-align: right;\">0.615641</td><td style=\"text-align: right;\">              0.311382</td><td style=\"text-align: right;\">0.459556</td><td style=\"text-align: right;\">0.211192</td></tr>\n",
       "<tr><td>DeepLearning_grid_1_AutoML_2_20211217_165112_model_5   </td><td style=\"text-align: right;\">0.742566</td><td style=\"text-align: right;\"> 0.643883</td><td style=\"text-align: right;\">0.648479</td><td style=\"text-align: right;\">              0.347182</td><td style=\"text-align: right;\">0.453233</td><td style=\"text-align: right;\">0.20542 </td></tr>\n",
       "<tr><td>DeepLearning_grid_3_AutoML_2_20211217_165112_model_3   </td><td style=\"text-align: right;\">0.740344</td><td style=\"text-align: right;\"> 0.745699</td><td style=\"text-align: right;\">0.642975</td><td style=\"text-align: right;\">              0.318317</td><td style=\"text-align: right;\">0.456721</td><td style=\"text-align: right;\">0.208594</td></tr>\n",
       "<tr><td>DeepLearning_grid_2_AutoML_2_20211217_165112_model_4   </td><td style=\"text-align: right;\">0.7399  </td><td style=\"text-align: right;\"> 0.858748</td><td style=\"text-align: right;\">0.613829</td><td style=\"text-align: right;\">              0.312478</td><td style=\"text-align: right;\">0.484385</td><td style=\"text-align: right;\">0.234628</td></tr>\n",
       "<tr><td>DeepLearning_grid_3_AutoML_2_20211217_165112_model_4   </td><td style=\"text-align: right;\">0.735416</td><td style=\"text-align: right;\"> 0.933067</td><td style=\"text-align: right;\">0.612644</td><td style=\"text-align: right;\">              0.349183</td><td style=\"text-align: right;\">0.484044</td><td style=\"text-align: right;\">0.234298</td></tr>\n",
       "<tr><td>DeepLearning_grid_3_AutoML_2_20211217_165112_model_1   </td><td style=\"text-align: right;\">0.735338</td><td style=\"text-align: right;\"> 0.713586</td><td style=\"text-align: right;\">0.63794 </td><td style=\"text-align: right;\">              0.307623</td><td style=\"text-align: right;\">0.463554</td><td style=\"text-align: right;\">0.214883</td></tr>\n",
       "<tr><td>DeepLearning_grid_3_AutoML_2_20211217_165112_model_7   </td><td style=\"text-align: right;\">0.735096</td><td style=\"text-align: right;\"> 0.753652</td><td style=\"text-align: right;\">0.589873</td><td style=\"text-align: right;\">              0.318679</td><td style=\"text-align: right;\">0.46643 </td><td style=\"text-align: right;\">0.217557</td></tr>\n",
       "<tr><td>DeepLearning_grid_1_AutoML_2_20211217_165112_model_3   </td><td style=\"text-align: right;\">0.73288 </td><td style=\"text-align: right;\"> 0.847706</td><td style=\"text-align: right;\">0.638467</td><td style=\"text-align: right;\">              0.356571</td><td style=\"text-align: right;\">0.47392 </td><td style=\"text-align: right;\">0.2246  </td></tr>\n",
       "<tr><td>GBM_grid_1_AutoML_2_20211217_165112_model_12           </td><td style=\"text-align: right;\">0.728385</td><td style=\"text-align: right;\"> 0.64325 </td><td style=\"text-align: right;\">0.572915</td><td style=\"text-align: right;\">              0.314996</td><td style=\"text-align: right;\">0.466147</td><td style=\"text-align: right;\">0.217293</td></tr>\n",
       "<tr><td>GBM_1_AutoML_2_20211217_165112                         </td><td style=\"text-align: right;\">0.722272</td><td style=\"text-align: right;\"> 0.599024</td><td style=\"text-align: right;\">0.606479</td><td style=\"text-align: right;\">              0.349497</td><td style=\"text-align: right;\">0.450752</td><td style=\"text-align: right;\">0.203177</td></tr>\n",
       "<tr><td>GBM_3_AutoML_2_20211217_165112                         </td><td style=\"text-align: right;\">0.718108</td><td style=\"text-align: right;\"> 0.647251</td><td style=\"text-align: right;\">0.580096</td><td style=\"text-align: right;\">              0.316991</td><td style=\"text-align: right;\">0.468936</td><td style=\"text-align: right;\">0.219901</td></tr>\n",
       "<tr><td>GBM_4_AutoML_2_20211217_165112                         </td><td style=\"text-align: right;\">0.711521</td><td style=\"text-align: right;\"> 0.648186</td><td style=\"text-align: right;\">0.57904 </td><td style=\"text-align: right;\">              0.335498</td><td style=\"text-align: right;\">0.470117</td><td style=\"text-align: right;\">0.22101 </td></tr>\n",
       "<tr><td>GBM_grid_1_AutoML_2_20211217_165112_model_16           </td><td style=\"text-align: right;\">0.703457</td><td style=\"text-align: right;\"> 0.606668</td><td style=\"text-align: right;\">0.583945</td><td style=\"text-align: right;\">              0.35293 </td><td style=\"text-align: right;\">0.456533</td><td style=\"text-align: right;\">0.208422</td></tr>\n",
       "<tr><td>GBM_2_AutoML_2_20211217_165112                         </td><td style=\"text-align: right;\">0.692954</td><td style=\"text-align: right;\"> 0.661233</td><td style=\"text-align: right;\">0.561368</td><td style=\"text-align: right;\">              0.336195</td><td style=\"text-align: right;\">0.472777</td><td style=\"text-align: right;\">0.223518</td></tr>\n",
       "<tr><td>GBM_grid_1_AutoML_2_20211217_165112_model_5            </td><td style=\"text-align: right;\">0.657241</td><td style=\"text-align: right;\"> 0.733424</td><td style=\"text-align: right;\">0.503914</td><td style=\"text-align: right;\">              0.404027</td><td style=\"text-align: right;\">0.497902</td><td style=\"text-align: right;\">0.247906</td></tr>\n",
       "</tbody>\n",
       "</table>"
      ]
     },
     "metadata": {},
     "output_type": "display_data"
    },
    {
     "data": {
      "text/plain": []
     },
     "execution_count": 4,
     "metadata": {},
     "output_type": "execute_result"
    }
   ],
   "source": [
    "import h2o\n",
    "from h2o.automl import H2OAutoML\n",
    "\n",
    "# Start the H2O cluster (locally)\n",
    "h2o.init()\n",
    "\n",
    "# Import a sample binary outcome train/test set into H2O\n",
    "train = h2o.import_file(\"startup_train.csv\")\n",
    "test = h2o.import_file(\"startup_test_new.csv\")\n",
    "print(train)\n",
    "# Identify predictors and response\n",
    "x = train.columns\n",
    "y = 'status'\n",
    "x.remove(y)\n",
    "\n",
    "# For binary classification, response should be a factor\n",
    "train[y] = train[y].asfactor()\n",
    "test[y] = test[y].asfactor()\n",
    "\n",
    "# Run AutoML for 20 base models\n",
    "aml = H2OAutoML(max_models=50, seed=1)\n",
    "aml.train(x=x, y=y, training_frame=train)\n",
    "\n",
    "# View the AutoML Leaderboard\n",
    "lb = aml.leaderboard\n",
    "lb.head(rows=lb.nrows)"
   ]
  },
  {
   "cell_type": "code",
   "execution_count": 5,
   "metadata": {},
   "outputs": [
    {
     "name": "stdout",
     "output_type": "stream",
     "text": [
      "stackedensemble prediction progress: |███████████████████████████████████████████| (done) 100%\n"
     ]
    },
    {
     "name": "stderr",
     "output_type": "stream",
     "text": [
      "D:\\Software\\Anaconda\\anaconda1\\lib\\site-packages\\h2o\\job.py:83: UserWarning: Test/Validation dataset column 'state_code' has levels not trained on: [\"AR\", \"ID\", \"WI\"]\n",
      "  warnings.warn(w)\n",
      "D:\\Software\\Anaconda\\anaconda1\\lib\\site-packages\\h2o\\job.py:83: UserWarning: Test/Validation dataset column 'city' has levels not trained on: [\"Avon\", \"Chelmsford\", \"El Segundo,\", \"Hampton\", \"Houston\", \"Idaho Falls\", \"Lisle\", \"Little Rock\", \"Middleton\", \"Scotts Valley\"]\n",
      "  warnings.warn(w)\n",
      "D:\\Software\\Anaconda\\anaconda1\\lib\\site-packages\\h2o\\job.py:83: UserWarning: Test/Validation dataset column 'Unnamed: 6' has levels not trained on: [\"Acton MA 1720\", \"Aliso Viejo CA 92656\", \"Austin TX 78746\", \"Boulder CO 80302\", \"Chelmsford MA 1824\", \"Hampton NJ 8827\", \"Houston TX 77046\", \"Idaho Falls ID 83402\", \"Little Rock AR 72201\", \"Mountain View CA 94040-2573\", \"Palo Alto CA 94301-1705\", \"Portland OR 97224\"]\n",
      "  warnings.warn(w)\n",
      "D:\\Software\\Anaconda\\anaconda1\\lib\\site-packages\\h2o\\job.py:83: UserWarning: Test/Validation dataset column 'state_code.1' has levels not trained on: [\"AR\", \"ID\", \"WI\"]\n",
      "  warnings.warn(w)\n"
     ]
    },
    {
     "data": {
      "text/html": [
       "<div>\n",
       "<style scoped>\n",
       "    .dataframe tbody tr th:only-of-type {\n",
       "        vertical-align: middle;\n",
       "    }\n",
       "\n",
       "    .dataframe tbody tr th {\n",
       "        vertical-align: top;\n",
       "    }\n",
       "\n",
       "    .dataframe thead th {\n",
       "        text-align: right;\n",
       "    }\n",
       "</style>\n",
       "<table border=\"1\" class=\"dataframe\">\n",
       "  <thead>\n",
       "    <tr style=\"text-align: right;\">\n",
       "      <th></th>\n",
       "      <th>predict</th>\n",
       "      <th>acquired</th>\n",
       "      <th>closed</th>\n",
       "    </tr>\n",
       "  </thead>\n",
       "  <tbody>\n",
       "    <tr>\n",
       "      <th>0</th>\n",
       "      <td>closed</td>\n",
       "      <td>0.317848</td>\n",
       "      <td>0.682152</td>\n",
       "    </tr>\n",
       "    <tr>\n",
       "      <th>1</th>\n",
       "      <td>acquired</td>\n",
       "      <td>0.690021</td>\n",
       "      <td>0.309979</td>\n",
       "    </tr>\n",
       "    <tr>\n",
       "      <th>2</th>\n",
       "      <td>acquired</td>\n",
       "      <td>0.898454</td>\n",
       "      <td>0.101546</td>\n",
       "    </tr>\n",
       "    <tr>\n",
       "      <th>3</th>\n",
       "      <td>closed</td>\n",
       "      <td>0.576988</td>\n",
       "      <td>0.423012</td>\n",
       "    </tr>\n",
       "    <tr>\n",
       "      <th>4</th>\n",
       "      <td>acquired</td>\n",
       "      <td>0.841533</td>\n",
       "      <td>0.158467</td>\n",
       "    </tr>\n",
       "  </tbody>\n",
       "</table>\n",
       "</div>"
      ],
      "text/plain": [
       "    predict  acquired    closed\n",
       "0    closed  0.317848  0.682152\n",
       "1  acquired  0.690021  0.309979\n",
       "2  acquired  0.898454  0.101546\n",
       "3    closed  0.576988  0.423012\n",
       "4  acquired  0.841533  0.158467"
      ]
     },
     "execution_count": 5,
     "metadata": {},
     "output_type": "execute_result"
    }
   ],
   "source": [
    "preds = aml.leader.predict(test[:-1])\n",
    "preds_df = h2o.as_list(preds)\n",
    "preds_df.head() "
   ]
  },
  {
   "cell_type": "code",
   "execution_count": 6,
   "metadata": {},
   "outputs": [
    {
     "data": {
      "text/plain": [
       "0       closed\n",
       "1     acquired\n",
       "2     acquired\n",
       "3       closed\n",
       "4     acquired\n",
       "        ...   \n",
       "70    acquired\n",
       "71    acquired\n",
       "72    acquired\n",
       "73    acquired\n",
       "74    acquired\n",
       "Name: predict, Length: 75, dtype: object"
      ]
     },
     "execution_count": 6,
     "metadata": {},
     "output_type": "execute_result"
    }
   ],
   "source": [
    "preds_df = preds_df['predict']\n",
    "preds_df"
   ]
  },
  {
   "cell_type": "code",
   "execution_count": 8,
   "metadata": {},
   "outputs": [
    {
     "ename": "TypeError",
     "evalue": "cannot concatenate object of type '<class 'h2o.frame.H2OFrame'>'; only Series and DataFrame objs are valid",
     "output_type": "error",
     "traceback": [
      "\u001b[1;31m---------------------------------------------------------------------------\u001b[0m",
      "\u001b[1;31mTypeError\u001b[0m                                 Traceback (most recent call last)",
      "\u001b[1;32m<ipython-input-8-ebd60de10ef9>\u001b[0m in \u001b[0;36m<module>\u001b[1;34m\u001b[0m\n\u001b[1;32m----> 1\u001b[1;33m \u001b[0mresult\u001b[0m \u001b[1;33m=\u001b[0m \u001b[0mpd\u001b[0m\u001b[1;33m.\u001b[0m\u001b[0mconcat\u001b[0m\u001b[1;33m(\u001b[0m\u001b[1;33m[\u001b[0m\u001b[0mtest\u001b[0m\u001b[1;33m[\u001b[0m\u001b[1;36m1\u001b[0m\u001b[1;33m]\u001b[0m\u001b[1;33m,\u001b[0m \u001b[0mpreds_df\u001b[0m\u001b[1;33m]\u001b[0m\u001b[1;33m,\u001b[0m \u001b[0maxis\u001b[0m\u001b[1;33m=\u001b[0m\u001b[1;36m0\u001b[0m\u001b[1;33m)\u001b[0m\u001b[1;33m\u001b[0m\u001b[1;33m\u001b[0m\u001b[0m\n\u001b[0m\u001b[0;32m      2\u001b[0m \u001b[0mresult\u001b[0m\u001b[1;33m\u001b[0m\u001b[1;33m\u001b[0m\u001b[0m\n",
      "\u001b[1;32mD:\\Software\\Anaconda\\anaconda1\\lib\\site-packages\\pandas\\core\\reshape\\concat.py\u001b[0m in \u001b[0;36mconcat\u001b[1;34m(objs, axis, join, ignore_index, keys, levels, names, verify_integrity, sort, copy)\u001b[0m\n\u001b[0;32m    272\u001b[0m     \u001b[0mValueError\u001b[0m\u001b[1;33m:\u001b[0m \u001b[0mIndexes\u001b[0m \u001b[0mhave\u001b[0m \u001b[0moverlapping\u001b[0m \u001b[0mvalues\u001b[0m\u001b[1;33m:\u001b[0m \u001b[1;33m[\u001b[0m\u001b[1;34m'a'\u001b[0m\u001b[1;33m]\u001b[0m\u001b[1;33m\u001b[0m\u001b[1;33m\u001b[0m\u001b[0m\n\u001b[0;32m    273\u001b[0m     \"\"\"\n\u001b[1;32m--> 274\u001b[1;33m     op = _Concatenator(\n\u001b[0m\u001b[0;32m    275\u001b[0m         \u001b[0mobjs\u001b[0m\u001b[1;33m,\u001b[0m\u001b[1;33m\u001b[0m\u001b[1;33m\u001b[0m\u001b[0m\n\u001b[0;32m    276\u001b[0m         \u001b[0maxis\u001b[0m\u001b[1;33m=\u001b[0m\u001b[0maxis\u001b[0m\u001b[1;33m,\u001b[0m\u001b[1;33m\u001b[0m\u001b[1;33m\u001b[0m\u001b[0m\n",
      "\u001b[1;32mD:\\Software\\Anaconda\\anaconda1\\lib\\site-packages\\pandas\\core\\reshape\\concat.py\u001b[0m in \u001b[0;36m__init__\u001b[1;34m(self, objs, axis, join, keys, levels, names, ignore_index, verify_integrity, copy, sort)\u001b[0m\n\u001b[0;32m    357\u001b[0m                     \u001b[1;34m\"only Series and DataFrame objs are valid\"\u001b[0m\u001b[1;33m\u001b[0m\u001b[1;33m\u001b[0m\u001b[0m\n\u001b[0;32m    358\u001b[0m                 )\n\u001b[1;32m--> 359\u001b[1;33m                 \u001b[1;32mraise\u001b[0m \u001b[0mTypeError\u001b[0m\u001b[1;33m(\u001b[0m\u001b[0mmsg\u001b[0m\u001b[1;33m)\u001b[0m\u001b[1;33m\u001b[0m\u001b[1;33m\u001b[0m\u001b[0m\n\u001b[0m\u001b[0;32m    360\u001b[0m \u001b[1;33m\u001b[0m\u001b[0m\n\u001b[0;32m    361\u001b[0m             \u001b[1;31m# consolidate\u001b[0m\u001b[1;33m\u001b[0m\u001b[1;33m\u001b[0m\u001b[1;33m\u001b[0m\u001b[0m\n",
      "\u001b[1;31mTypeError\u001b[0m: cannot concatenate object of type '<class 'h2o.frame.H2OFrame'>'; only Series and DataFrame objs are valid"
     ]
    }
   ],
   "source": [
    "index = h2o.as_list(test[1])\n",
    "result = pd.concat([test[1], preds_df], axis=0)\n",
    "result"
   ]
  },
  {
   "cell_type": "code",
   "execution_count": null,
   "metadata": {},
   "outputs": [],
   "source": [
    "preds_df.to_csv('result.csv', index=True)\n",
    "preds_df.head()"
   ]
  }
 ],
 "metadata": {
  "kernelspec": {
   "display_name": "Python 3",
   "language": "python",
   "name": "python3"
  },
  "language_info": {
   "codemirror_mode": {
    "name": "ipython",
    "version": 3
   },
   "file_extension": ".py",
   "mimetype": "text/x-python",
   "name": "python",
   "nbconvert_exporter": "python",
   "pygments_lexer": "ipython3",
   "version": "3.8.3"
  }
 },
 "nbformat": 4,
 "nbformat_minor": 4
}
